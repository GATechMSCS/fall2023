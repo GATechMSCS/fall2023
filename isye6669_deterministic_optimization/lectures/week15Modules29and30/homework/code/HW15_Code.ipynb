{
 "cells": [
  {
   "cell_type": "markdown",
   "metadata": {},
   "source": [
    "$\\textbf{QUESTION 1}$\n",
    "$$\n",
    "\n",
    "$$"
   ]
  },
  {
   "cell_type": "markdown",
   "metadata": {},
   "source": [
    "$\\textbf{QUESTION 2}$\n",
    "\n",
    "$$\n",
    "d_{ij} > \\text{dose deposited on cell, j, per unit intensity of beam at position, i} \\\\\n",
    "x_{i} > \\text{ intensity of radiation beam at position, i} \\\\\n",
    "y_j = d_{ij} \\times x_i > \\text{dose deposited on cell, j} \\\\\n",
    "z_j \\in \\{0, 1\\} > \\text{binary variable to determine if cell, j, gets at least 75 units} \\\\\n",
    "c_j \\in \\{0, 1\\} > \\text{binary variable to determine if cell is cancerous or normal. 1 = cancerous, 0 = normal}\n",
    "\\\\~\\\\\n",
    "\n",
    "\\text{Objective Function:} \\\\\n",
    "\\min \\sum_{i = 1}^{100} \\sum_{j = 1}^{5000} x_i d_{ij} \\\\~\\\\\n",
    "\\text{Constraints: } \\\\\n",
    "d_{ij} \\le 25 \\ \\forall j = 1001,...,5000, \\forall \\ i = 1,...,100 \\\\\n",
    "d_{ij} \\ge 70 \\ \\forall j = 1,...,1000, \\forall \\ i = 1,...,100 \\\\\n",
    "d_{ij} \\ge 75 \\ \\forall j = \\text{90\\% of cancer cells}, \\forall \\ i = 1,...,100 \\\\\n",
    "$$"
   ]
  },
  {
   "cell_type": "markdown",
   "metadata": {},
   "source": [
    "$\\textbf{QUESTION 3}$\n",
    "\n",
    "$$\n",
    "\\text{PART A} \\\\\n",
    "\\text{The tree is for a minimization problem} \\\\~\\\\\n",
    "\n",
    "\\text{PART B} \\\\\n",
    "\\text{Nodes 9 and 10 still need to be branched} \\\\~\\\\\n",
    "\n",
    "\\text{PART C} \\\\\n",
    "\\text{Nodes 4, 5, 7, and 8 do not need to be branched} \\\\~\\\\\n",
    "\n",
    "\\text{PART D} \\\\\n",
    "\\text{The optimality gap: } \\\\ \n",
    "8.7 - 7 = 1.7 \\\\~\\\\\n",
    "\n",
    "\\text{PART E} \\\\\n",
    "\\text{First node 7 was found, then node 4, finally node 5} \\\\\n",
    "$$"
   ]
  },
  {
   "cell_type": "markdown",
   "metadata": {},
   "source": []
  }
 ],
 "metadata": {
  "kernelspec": {
   "display_name": "bayes_stats",
   "language": "python",
   "name": "python3"
  },
  "language_info": {
   "codemirror_mode": {
    "name": "ipython",
    "version": 3
   },
   "file_extension": ".py",
   "mimetype": "text/x-python",
   "name": "python",
   "nbconvert_exporter": "python",
   "pygments_lexer": "ipython3",
   "version": "3.11.4"
  },
  "orig_nbformat": 4
 },
 "nbformat": 4,
 "nbformat_minor": 2
}
