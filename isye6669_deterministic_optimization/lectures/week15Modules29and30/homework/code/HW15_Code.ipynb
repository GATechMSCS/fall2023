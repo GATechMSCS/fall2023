{
 "cells": [
  {
   "cell_type": "markdown",
   "metadata": {},
   "source": [
    "$\\textbf{QUESTION 1}$\n",
    "$$\n",
    "d_{ij} > \\text{dose deposited on cell, j, per unit intensity of beam at position, i} \\\\\n",
    "x_{i} > \\text{ intensity of radiation beam at position, i} \\\\\n",
    "y_i > \\text{dose deposited on cell, j} \\\\\n",
    "z_j > \\text{binary variable to determine if cell, j, gets at least 75 units}\n",
    "\\\\~\\\\\n",
    "\n",
    "\\text{Objective Function (Normal Cells:)} \\\\\n",
    "\\min \\sum_{i = 1}^{100} \\sum_{j = 1001}^{5000} d_{ij} \\\\~\\\\\n",
    "\\text{Constraints: } \\\\\n",
    "d_{ij} \\le 25 \\ \\forall j = 1001,...,5000, \\forall \\ i = 1,...,100\n",
    "\n",
    "\\\\~\\\\\n",
    "\\text{Objective Function (Cancerous Cells:)} \\\\\n",
    "\\max \\sum_{i = 1}^{100} \\sum_{j = 1}^{1000} d_{ij} \\\\~\\\\\n",
    "\\text{Constraints: }\\\\\n",
    "d_{ij} \\ge 70 \\ \\forall j = 1,...,1000, \\forall \\ i = 1,...,100 \\\\\n",
    "d_{ij} \\ge 75 \\ \\forall j = 1,...,900, \\forall \\ i = 1,...,100 \\\\\n",
    "\n",
    "$$"
   ]
  },
  {
   "cell_type": "markdown",
   "metadata": {},
   "source": [
    "$\\textbf{QUESTION 2}$"
   ]
  },
  {
   "cell_type": "markdown",
   "metadata": {},
   "source": [
    "$\\textbf{QUESTION 3}$"
   ]
  }
 ],
 "metadata": {
  "kernelspec": {
   "display_name": "bayes_stats",
   "language": "python",
   "name": "python3"
  },
  "language_info": {
   "codemirror_mode": {
    "name": "ipython",
    "version": 3
   },
   "file_extension": ".py",
   "mimetype": "text/x-python",
   "name": "python",
   "nbconvert_exporter": "python",
   "pygments_lexer": "ipython3",
   "version": "3.11.4"
  },
  "orig_nbformat": 4
 },
 "nbformat": 4,
 "nbformat_minor": 2
}
