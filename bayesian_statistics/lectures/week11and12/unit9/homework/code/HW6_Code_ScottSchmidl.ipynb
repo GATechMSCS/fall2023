{
  "cells": [
    {
      "cell_type": "markdown",
      "metadata": {
        "id": "Yep7SFkh0XdE"
      },
      "source": [
        "### IMPORTS"
      ]
    },
    {
      "cell_type": "code",
      "execution_count": 1,
      "metadata": {
        "id": "ezeS0gZO0XdI"
      },
      "outputs": [],
      "source": [
        "import pymc as pm\n",
        "import numpy as np\n",
        "import pandas as pd\n",
        "import arviz as az"
      ]
    },
    {
      "cell_type": "markdown",
      "metadata": {
        "id": "rZG4I4uK0XdL"
      },
      "source": [
        "$\\textbf{QUESTION 1}$\n",
        "\n",
        "$$\n",
        "\\text{PART A}\n",
        "$$"
      ]
    },
    {
      "cell_type": "code",
      "execution_count": 2,
      "metadata": {
        "id": "EABzjbWEDnUj"
      },
      "outputs": [],
      "source": [
        "rabbits = pd.DataFrame(data={'time_after_injection': [24, 32, 48, 56, None,\n",
        "                                                      70, 72, 75, 80, 96],\n",
        "                             'temperature': [102.8, 104.5, 106.5, 107.0, 107.2, 105.1, 103.9, None,\n",
        "                                             103.2, 102.1]})\n",
        "\n",
        "rab_time = rabbits['time_after_injection']\n",
        "rab_temp = rabbits['temperature']"
      ]
    },
    {
      "cell_type": "code",
      "execution_count": 3,
      "metadata": {
        "colab": {
          "base_uri": "https://localhost:8080/"
        },
        "id": "nltQI2cDDnUk",
        "outputId": "ae473eb9-0532-445c-856a-9b69d70f4569"
      },
      "outputs": [
        {
          "name": "stdout",
          "output_type": "stream",
          "text": [
            "rab_time_mean=61.44444444444444\n",
            "rab_time_std=23.415332109064302\n",
            "rab_temp_mean=104.7\n",
            "rab_temp_std=1.8788294228055948\n"
          ]
        }
      ],
      "source": [
        "# Get X mean/std\n",
        "rab_time_mean = rab_time.mean()\n",
        "rab_time_std = rab_time.std()\n",
        "\n",
        "# Get y mean/std\n",
        "rab_temp_mean = rab_temp.mean()\n",
        "rab_temp_std = rab_temp.std()\n",
        "\n",
        "print(f\"{rab_time_mean=}\\n{rab_time_std=}\\n{rab_temp_mean=}\\n{rab_temp_std=}\")"
      ]
    },
    {
      "cell_type": "code",
      "execution_count": 4,
      "metadata": {
        "id": "r9loTU2QDnUl"
      },
      "outputs": [],
      "source": [
        "# Fix X missing values\n",
        "rab_time = np.nan_to_num(rab_time, nan=-1)\n",
        "rab_time = np.ma.masked_values(rab_time, value=-1)\n",
        "\n",
        "# Fix y missing values\n",
        "rab_temp = np.nan_to_num(rab_temp, nan=-1)\n",
        "rab_temp = np.ma.masked_values(rab_temp, value=-1)"
      ]
    },
    {
      "cell_type": "code",
      "execution_count": 17,
      "metadata": {
        "colab": {
          "base_uri": "https://localhost:8080/"
        },
        "id": "oDl_UpYaDnUm",
        "outputId": "151dbc23-6b1d-4e92-a4e5-37083b85fa58"
      },
      "outputs": [
        {
          "name": "stdout",
          "output_type": "stream",
          "text": [
            "rab_time=masked_array(data=[24.0, 32.0, 48.0, 56.0, --, 70.0, 72.0, 75.0, 80.0,\n",
            "                   96.0],\n",
            "             mask=[False, False, False, False,  True, False, False, False,\n",
            "                   False, False],\n",
            "       fill_value=-1.0)\n",
            "[102.8 104.5 106.5 107.0 107.2 105.1 103.9 -- 103.2 102.1]\n"
          ]
        }
      ],
      "source": [
        "print(f\"{rab_time=}\\n{rab_temp}\")"
      ]
    },
    {
      "cell_type": "code",
      "execution_count": 6,
      "metadata": {
        "colab": {
          "base_uri": "https://localhost:8080/",
          "height": 236
        },
        "id": "emW4lWHODnUn",
        "outputId": "90148d11-311a-4c86-bd0c-411c27b250a4"
      },
      "outputs": [
        {
          "name": "stderr",
          "output_type": "stream",
          "text": [
            "/usr/local/lib/python3.10/dist-packages/pymc/model.py:1363: ImputationWarning: Data in rab_time_imputed contains missing values and will be automatically imputed from the sampling distribution.\n",
            "  warnings.warn(impute_message, ImputationWarning)\n",
            "/usr/local/lib/python3.10/dist-packages/pymc/model.py:1363: ImputationWarning: Data in likelihood contains missing values and will be automatically imputed from the sampling distribution.\n",
            "  warnings.warn(impute_message, ImputationWarning)\n"
          ]
        },
        {
          "data": {
            "text/html": [
              "\n",
              "<style>\n",
              "    /* Turns off some styling */\n",
              "    progress {\n",
              "        /* gets rid of default border in Firefox and Opera. */\n",
              "        border: none;\n",
              "        /* Needs to be in here for Safari polyfill so background images work as expected. */\n",
              "        background-size: auto;\n",
              "    }\n",
              "    progress:not([value]), progress:not([value])::-webkit-progress-bar {\n",
              "        background: repeating-linear-gradient(45deg, #7e7e7e, #7e7e7e 10px, #5c5c5c 10px, #5c5c5c 20px);\n",
              "    }\n",
              "    .progress-bar-interrupted, .progress-bar-interrupted::-webkit-progress-bar {\n",
              "        background: #F44336;\n",
              "    }\n",
              "</style>\n"
            ],
            "text/plain": [
              "<IPython.core.display.HTML object>"
            ]
          },
          "metadata": {},
          "output_type": "display_data"
        },
        {
          "data": {
            "text/html": [
              "\n",
              "    <div>\n",
              "      <progress value='3000' class='' max='3000' style='width:300px; height:20px; vertical-align: middle;'></progress>\n",
              "      100.00% [3000/3000 00:06&lt;00:00 Sampling chain 0, 0 divergences]\n",
              "    </div>\n",
              "    "
            ],
            "text/plain": [
              "<IPython.core.display.HTML object>"
            ]
          },
          "metadata": {},
          "output_type": "display_data"
        },
        {
          "data": {
            "text/html": [
              "\n",
              "<style>\n",
              "    /* Turns off some styling */\n",
              "    progress {\n",
              "        /* gets rid of default border in Firefox and Opera. */\n",
              "        border: none;\n",
              "        /* Needs to be in here for Safari polyfill so background images work as expected. */\n",
              "        background-size: auto;\n",
              "    }\n",
              "    progress:not([value]), progress:not([value])::-webkit-progress-bar {\n",
              "        background: repeating-linear-gradient(45deg, #7e7e7e, #7e7e7e 10px, #5c5c5c 10px, #5c5c5c 20px);\n",
              "    }\n",
              "    .progress-bar-interrupted, .progress-bar-interrupted::-webkit-progress-bar {\n",
              "        background: #F44336;\n",
              "    }\n",
              "</style>\n"
            ],
            "text/plain": [
              "<IPython.core.display.HTML object>"
            ]
          },
          "metadata": {},
          "output_type": "display_data"
        },
        {
          "data": {
            "text/html": [
              "\n",
              "    <div>\n",
              "      <progress value='3000' class='' max='3000' style='width:300px; height:20px; vertical-align: middle;'></progress>\n",
              "      100.00% [3000/3000 00:14&lt;00:00 Sampling chain 1, 0 divergences]\n",
              "    </div>\n",
              "    "
            ],
            "text/plain": [
              "<IPython.core.display.HTML object>"
            ]
          },
          "metadata": {},
          "output_type": "display_data"
        },
        {
          "name": "stderr",
          "output_type": "stream",
          "text": [
            "/usr/local/lib/python3.10/dist-packages/pymc/pytensorf.py:1055: UserWarning: RNG Variable RandomGeneratorSharedVariable(<Generator(PCG64) at 0x78C74057AA40>) has multiple clients. This is likely an inconsistent random graph.\n",
            "  warnings.warn(\n",
            "/usr/local/lib/python3.10/dist-packages/pymc/pytensorf.py:1055: UserWarning: RNG Variable RandomGeneratorSharedVariable(<Generator(PCG64) at 0x78C7403E3680>) has multiple clients. This is likely an inconsistent random graph.\n",
            "  warnings.warn(\n"
          ]
        },
        {
          "data": {
            "text/html": [
              "\n",
              "<style>\n",
              "    /* Turns off some styling */\n",
              "    progress {\n",
              "        /* gets rid of default border in Firefox and Opera. */\n",
              "        border: none;\n",
              "        /* Needs to be in here for Safari polyfill so background images work as expected. */\n",
              "        background-size: auto;\n",
              "    }\n",
              "    progress:not([value]), progress:not([value])::-webkit-progress-bar {\n",
              "        background: repeating-linear-gradient(45deg, #7e7e7e, #7e7e7e 10px, #5c5c5c 10px, #5c5c5c 20px);\n",
              "    }\n",
              "    .progress-bar-interrupted, .progress-bar-interrupted::-webkit-progress-bar {\n",
              "        background: #F44336;\n",
              "    }\n",
              "</style>\n"
            ],
            "text/plain": [
              "<IPython.core.display.HTML object>"
            ]
          },
          "metadata": {},
          "output_type": "display_data"
        },
        {
          "data": {
            "text/html": [
              "\n",
              "    <div>\n",
              "      <progress value='4000' class='' max='4000' style='width:300px; height:20px; vertical-align: middle;'></progress>\n",
              "      100.00% [4000/4000 00:00&lt;00:00]\n",
              "    </div>\n",
              "    "
            ],
            "text/plain": [
              "<IPython.core.display.HTML object>"
            ]
          },
          "metadata": {},
          "output_type": "display_data"
        }
      ],
      "source": [
        "with pm.Model() as rab:\n",
        "\n",
        "    alpha = pm.Normal(\"alpha\", mu=0, tau=0.001)\n",
        "    beta = pm.Normal(\"beta\", mu=0, tau=0.001)\n",
        "\n",
        "    rab_time_imputed = pm.Normal(\"rab_time_imputed\", mu=rab_time_mean, sigma=rab_time_std, observed=rab_time)\n",
        "\n",
        "    mu = alpha + beta * rab_time_imputed\n",
        "\n",
        "    pm.Normal(\"likelihood\", mu=rab_temp_mean, sigma=rab_temp_std, observed=rab_temp)\n",
        "\n",
        "    rab_trace = pm.sample(draws=2000, tune=1000, target_accept=0.95)\n",
        "\n",
        "    rab_pred = pm.sample_posterior_predictive(rab_trace)"
      ]
    },
    {
      "cell_type": "code",
      "execution_count": 7,
      "metadata": {
        "colab": {
          "base_uri": "https://localhost:8080/",
          "height": 898
        },
        "id": "QC1Mj07oDnUo",
        "outputId": "c72b20ff-2b06-4399-8f43-241ad6172868"
      },
      "outputs": [
        {
          "name": "stderr",
          "output_type": "stream",
          "text": [
            "/usr/local/lib/python3.10/dist-packages/arviz/utils.py:184: NumbaDeprecationWarning: The 'nopython' keyword argument was not supplied to the 'numba.jit' decorator. The implicit default value for this argument is currently False, but it will be changed to True in Numba 0.59.0. See https://numba.readthedocs.io/en/stable/reference/deprecation.html#deprecation-of-object-mode-fall-back-behaviour-when-using-jit for details.\n",
            "  numba_fn = numba.jit(**self.kwargs)(self.function)\n",
            "/usr/local/lib/python3.10/dist-packages/arviz/stats/diagnostics.py:592: RuntimeWarning: invalid value encountered in double_scalars\n",
            "  (between_chain_variance / within_chain_variance + num_samples - 1) / (num_samples)\n",
            "/usr/local/lib/python3.10/dist-packages/arviz/stats/diagnostics.py:592: RuntimeWarning: invalid value encountered in double_scalars\n",
            "  (between_chain_variance / within_chain_variance + num_samples - 1) / (num_samples)\n",
            "/usr/local/lib/python3.10/dist-packages/arviz/stats/diagnostics.py:592: RuntimeWarning: invalid value encountered in double_scalars\n",
            "  (between_chain_variance / within_chain_variance + num_samples - 1) / (num_samples)\n"
          ]
        },
        {
          "data": {
            "text/html": [
              "\n",
              "  <div id=\"df-6239eb28-15dd-45e3-98de-0d9543659841\" class=\"colab-df-container\">\n",
              "    <div>\n",
              "<style scoped>\n",
              "    .dataframe tbody tr th:only-of-type {\n",
              "        vertical-align: middle;\n",
              "    }\n",
              "\n",
              "    .dataframe tbody tr th {\n",
              "        vertical-align: top;\n",
              "    }\n",
              "\n",
              "    .dataframe thead th {\n",
              "        text-align: right;\n",
              "    }\n",
              "</style>\n",
              "<table border=\"1\" class=\"dataframe\">\n",
              "  <thead>\n",
              "    <tr style=\"text-align: right;\">\n",
              "      <th></th>\n",
              "      <th>mean</th>\n",
              "      <th>sd</th>\n",
              "      <th>hdi_5%</th>\n",
              "      <th>hdi_95%</th>\n",
              "      <th>mcse_mean</th>\n",
              "      <th>mcse_sd</th>\n",
              "      <th>ess_bulk</th>\n",
              "      <th>ess_tail</th>\n",
              "      <th>r_hat</th>\n",
              "    </tr>\n",
              "  </thead>\n",
              "  <tbody>\n",
              "    <tr>\n",
              "      <th>alpha</th>\n",
              "      <td>0.354</td>\n",
              "      <td>31.178</td>\n",
              "      <td>-49.984</td>\n",
              "      <td>51.408</td>\n",
              "      <td>0.429</td>\n",
              "      <td>0.526</td>\n",
              "      <td>5295.0</td>\n",
              "      <td>2889.0</td>\n",
              "      <td>1.0</td>\n",
              "    </tr>\n",
              "    <tr>\n",
              "      <th>beta</th>\n",
              "      <td>-0.125</td>\n",
              "      <td>31.410</td>\n",
              "      <td>-50.940</td>\n",
              "      <td>51.172</td>\n",
              "      <td>0.419</td>\n",
              "      <td>0.510</td>\n",
              "      <td>5648.0</td>\n",
              "      <td>2857.0</td>\n",
              "      <td>1.0</td>\n",
              "    </tr>\n",
              "    <tr>\n",
              "      <th>rab_time_imputed[0]</th>\n",
              "      <td>24.000</td>\n",
              "      <td>0.000</td>\n",
              "      <td>24.000</td>\n",
              "      <td>24.000</td>\n",
              "      <td>0.000</td>\n",
              "      <td>0.000</td>\n",
              "      <td>4000.0</td>\n",
              "      <td>4000.0</td>\n",
              "      <td>NaN</td>\n",
              "    </tr>\n",
              "    <tr>\n",
              "      <th>rab_time_imputed[1]</th>\n",
              "      <td>32.000</td>\n",
              "      <td>0.000</td>\n",
              "      <td>32.000</td>\n",
              "      <td>32.000</td>\n",
              "      <td>0.000</td>\n",
              "      <td>0.000</td>\n",
              "      <td>4000.0</td>\n",
              "      <td>4000.0</td>\n",
              "      <td>NaN</td>\n",
              "    </tr>\n",
              "    <tr>\n",
              "      <th>rab_time_imputed[2]</th>\n",
              "      <td>48.000</td>\n",
              "      <td>0.000</td>\n",
              "      <td>48.000</td>\n",
              "      <td>48.000</td>\n",
              "      <td>0.000</td>\n",
              "      <td>0.000</td>\n",
              "      <td>4000.0</td>\n",
              "      <td>4000.0</td>\n",
              "      <td>NaN</td>\n",
              "    </tr>\n",
              "    <tr>\n",
              "      <th>rab_time_imputed[3]</th>\n",
              "      <td>56.000</td>\n",
              "      <td>0.000</td>\n",
              "      <td>56.000</td>\n",
              "      <td>56.000</td>\n",
              "      <td>0.000</td>\n",
              "      <td>0.000</td>\n",
              "      <td>4000.0</td>\n",
              "      <td>4000.0</td>\n",
              "      <td>NaN</td>\n",
              "    </tr>\n",
              "    <tr>\n",
              "      <th>rab_time_imputed[4]</th>\n",
              "      <td>61.178</td>\n",
              "      <td>23.990</td>\n",
              "      <td>20.917</td>\n",
              "      <td>99.226</td>\n",
              "      <td>0.354</td>\n",
              "      <td>0.280</td>\n",
              "      <td>4602.0</td>\n",
              "      <td>2233.0</td>\n",
              "      <td>1.0</td>\n",
              "    </tr>\n",
              "    <tr>\n",
              "      <th>rab_time_imputed[5]</th>\n",
              "      <td>70.000</td>\n",
              "      <td>0.000</td>\n",
              "      <td>70.000</td>\n",
              "      <td>70.000</td>\n",
              "      <td>0.000</td>\n",
              "      <td>0.000</td>\n",
              "      <td>4000.0</td>\n",
              "      <td>4000.0</td>\n",
              "      <td>NaN</td>\n",
              "    </tr>\n",
              "    <tr>\n",
              "      <th>rab_time_imputed[6]</th>\n",
              "      <td>72.000</td>\n",
              "      <td>0.000</td>\n",
              "      <td>72.000</td>\n",
              "      <td>72.000</td>\n",
              "      <td>0.000</td>\n",
              "      <td>0.000</td>\n",
              "      <td>4000.0</td>\n",
              "      <td>4000.0</td>\n",
              "      <td>NaN</td>\n",
              "    </tr>\n",
              "    <tr>\n",
              "      <th>rab_time_imputed[7]</th>\n",
              "      <td>75.000</td>\n",
              "      <td>0.000</td>\n",
              "      <td>75.000</td>\n",
              "      <td>75.000</td>\n",
              "      <td>0.000</td>\n",
              "      <td>0.000</td>\n",
              "      <td>4000.0</td>\n",
              "      <td>4000.0</td>\n",
              "      <td>NaN</td>\n",
              "    </tr>\n",
              "    <tr>\n",
              "      <th>rab_time_imputed[8]</th>\n",
              "      <td>80.000</td>\n",
              "      <td>0.000</td>\n",
              "      <td>80.000</td>\n",
              "      <td>80.000</td>\n",
              "      <td>0.000</td>\n",
              "      <td>0.000</td>\n",
              "      <td>4000.0</td>\n",
              "      <td>4000.0</td>\n",
              "      <td>NaN</td>\n",
              "    </tr>\n",
              "    <tr>\n",
              "      <th>rab_time_imputed[9]</th>\n",
              "      <td>96.000</td>\n",
              "      <td>0.000</td>\n",
              "      <td>96.000</td>\n",
              "      <td>96.000</td>\n",
              "      <td>0.000</td>\n",
              "      <td>0.000</td>\n",
              "      <td>4000.0</td>\n",
              "      <td>4000.0</td>\n",
              "      <td>NaN</td>\n",
              "    </tr>\n",
              "    <tr>\n",
              "      <th>likelihood[0]</th>\n",
              "      <td>102.800</td>\n",
              "      <td>0.000</td>\n",
              "      <td>102.800</td>\n",
              "      <td>102.800</td>\n",
              "      <td>0.000</td>\n",
              "      <td>0.000</td>\n",
              "      <td>4000.0</td>\n",
              "      <td>4000.0</td>\n",
              "      <td>NaN</td>\n",
              "    </tr>\n",
              "    <tr>\n",
              "      <th>likelihood[1]</th>\n",
              "      <td>104.500</td>\n",
              "      <td>0.000</td>\n",
              "      <td>104.500</td>\n",
              "      <td>104.500</td>\n",
              "      <td>0.000</td>\n",
              "      <td>0.000</td>\n",
              "      <td>4000.0</td>\n",
              "      <td>4000.0</td>\n",
              "      <td>NaN</td>\n",
              "    </tr>\n",
              "    <tr>\n",
              "      <th>likelihood[2]</th>\n",
              "      <td>106.500</td>\n",
              "      <td>0.000</td>\n",
              "      <td>106.500</td>\n",
              "      <td>106.500</td>\n",
              "      <td>0.000</td>\n",
              "      <td>0.000</td>\n",
              "      <td>4000.0</td>\n",
              "      <td>4000.0</td>\n",
              "      <td>NaN</td>\n",
              "    </tr>\n",
              "    <tr>\n",
              "      <th>likelihood[3]</th>\n",
              "      <td>107.000</td>\n",
              "      <td>0.000</td>\n",
              "      <td>107.000</td>\n",
              "      <td>107.000</td>\n",
              "      <td>0.000</td>\n",
              "      <td>0.000</td>\n",
              "      <td>4000.0</td>\n",
              "      <td>4000.0</td>\n",
              "      <td>NaN</td>\n",
              "    </tr>\n",
              "    <tr>\n",
              "      <th>likelihood[4]</th>\n",
              "      <td>107.200</td>\n",
              "      <td>0.000</td>\n",
              "      <td>107.200</td>\n",
              "      <td>107.200</td>\n",
              "      <td>0.000</td>\n",
              "      <td>0.000</td>\n",
              "      <td>4000.0</td>\n",
              "      <td>4000.0</td>\n",
              "      <td>NaN</td>\n",
              "    </tr>\n",
              "    <tr>\n",
              "      <th>likelihood[5]</th>\n",
              "      <td>105.100</td>\n",
              "      <td>0.000</td>\n",
              "      <td>105.100</td>\n",
              "      <td>105.100</td>\n",
              "      <td>0.000</td>\n",
              "      <td>0.000</td>\n",
              "      <td>4000.0</td>\n",
              "      <td>4000.0</td>\n",
              "      <td>NaN</td>\n",
              "    </tr>\n",
              "    <tr>\n",
              "      <th>likelihood[6]</th>\n",
              "      <td>103.900</td>\n",
              "      <td>0.000</td>\n",
              "      <td>103.900</td>\n",
              "      <td>103.900</td>\n",
              "      <td>0.000</td>\n",
              "      <td>0.000</td>\n",
              "      <td>4000.0</td>\n",
              "      <td>4000.0</td>\n",
              "      <td>NaN</td>\n",
              "    </tr>\n",
              "    <tr>\n",
              "      <th>likelihood[7]</th>\n",
              "      <td>104.709</td>\n",
              "      <td>1.830</td>\n",
              "      <td>101.711</td>\n",
              "      <td>107.661</td>\n",
              "      <td>0.027</td>\n",
              "      <td>0.019</td>\n",
              "      <td>4468.0</td>\n",
              "      <td>2709.0</td>\n",
              "      <td>1.0</td>\n",
              "    </tr>\n",
              "    <tr>\n",
              "      <th>likelihood[8]</th>\n",
              "      <td>103.200</td>\n",
              "      <td>0.000</td>\n",
              "      <td>103.200</td>\n",
              "      <td>103.200</td>\n",
              "      <td>0.000</td>\n",
              "      <td>0.000</td>\n",
              "      <td>4000.0</td>\n",
              "      <td>4000.0</td>\n",
              "      <td>NaN</td>\n",
              "    </tr>\n",
              "    <tr>\n",
              "      <th>likelihood[9]</th>\n",
              "      <td>102.100</td>\n",
              "      <td>0.000</td>\n",
              "      <td>102.100</td>\n",
              "      <td>102.100</td>\n",
              "      <td>0.000</td>\n",
              "      <td>0.000</td>\n",
              "      <td>4000.0</td>\n",
              "      <td>4000.0</td>\n",
              "      <td>NaN</td>\n",
              "    </tr>\n",
              "  </tbody>\n",
              "</table>\n",
              "</div>\n",
              "    <div class=\"colab-df-buttons\">\n",
              "\n",
              "  <div class=\"colab-df-container\">\n",
              "    <button class=\"colab-df-convert\" onclick=\"convertToInteractive('df-6239eb28-15dd-45e3-98de-0d9543659841')\"\n",
              "            title=\"Convert this dataframe to an interactive table.\"\n",
              "            style=\"display:none;\">\n",
              "\n",
              "  <svg xmlns=\"http://www.w3.org/2000/svg\" height=\"24px\" viewBox=\"0 -960 960 960\">\n",
              "    <path d=\"M120-120v-720h720v720H120Zm60-500h600v-160H180v160Zm220 220h160v-160H400v160Zm0 220h160v-160H400v160ZM180-400h160v-160H180v160Zm440 0h160v-160H620v160ZM180-180h160v-160H180v160Zm440 0h160v-160H620v160Z\"/>\n",
              "  </svg>\n",
              "    </button>\n",
              "\n",
              "  <style>\n",
              "    .colab-df-container {\n",
              "      display:flex;\n",
              "      gap: 12px;\n",
              "    }\n",
              "\n",
              "    .colab-df-convert {\n",
              "      background-color: #E8F0FE;\n",
              "      border: none;\n",
              "      border-radius: 50%;\n",
              "      cursor: pointer;\n",
              "      display: none;\n",
              "      fill: #1967D2;\n",
              "      height: 32px;\n",
              "      padding: 0 0 0 0;\n",
              "      width: 32px;\n",
              "    }\n",
              "\n",
              "    .colab-df-convert:hover {\n",
              "      background-color: #E2EBFA;\n",
              "      box-shadow: 0px 1px 2px rgba(60, 64, 67, 0.3), 0px 1px 3px 1px rgba(60, 64, 67, 0.15);\n",
              "      fill: #174EA6;\n",
              "    }\n",
              "\n",
              "    .colab-df-buttons div {\n",
              "      margin-bottom: 4px;\n",
              "    }\n",
              "\n",
              "    [theme=dark] .colab-df-convert {\n",
              "      background-color: #3B4455;\n",
              "      fill: #D2E3FC;\n",
              "    }\n",
              "\n",
              "    [theme=dark] .colab-df-convert:hover {\n",
              "      background-color: #434B5C;\n",
              "      box-shadow: 0px 1px 3px 1px rgba(0, 0, 0, 0.15);\n",
              "      filter: drop-shadow(0px 1px 2px rgba(0, 0, 0, 0.3));\n",
              "      fill: #FFFFFF;\n",
              "    }\n",
              "  </style>\n",
              "\n",
              "    <script>\n",
              "      const buttonEl =\n",
              "        document.querySelector('#df-6239eb28-15dd-45e3-98de-0d9543659841 button.colab-df-convert');\n",
              "      buttonEl.style.display =\n",
              "        google.colab.kernel.accessAllowed ? 'block' : 'none';\n",
              "\n",
              "      async function convertToInteractive(key) {\n",
              "        const element = document.querySelector('#df-6239eb28-15dd-45e3-98de-0d9543659841');\n",
              "        const dataTable =\n",
              "          await google.colab.kernel.invokeFunction('convertToInteractive',\n",
              "                                                    [key], {});\n",
              "        if (!dataTable) return;\n",
              "\n",
              "        const docLinkHtml = 'Like what you see? Visit the ' +\n",
              "          '<a target=\"_blank\" href=https://colab.research.google.com/notebooks/data_table.ipynb>data table notebook</a>'\n",
              "          + ' to learn more about interactive tables.';\n",
              "        element.innerHTML = '';\n",
              "        dataTable['output_type'] = 'display_data';\n",
              "        await google.colab.output.renderOutput(dataTable, element);\n",
              "        const docLink = document.createElement('div');\n",
              "        docLink.innerHTML = docLinkHtml;\n",
              "        element.appendChild(docLink);\n",
              "      }\n",
              "    </script>\n",
              "  </div>\n",
              "\n",
              "\n",
              "<div id=\"df-0e10c414-acf5-4139-9bc1-d2dc52f9d254\">\n",
              "  <button class=\"colab-df-quickchart\" onclick=\"quickchart('df-0e10c414-acf5-4139-9bc1-d2dc52f9d254')\"\n",
              "            title=\"Suggest charts\"\n",
              "            style=\"display:none;\">\n",
              "\n",
              "<svg xmlns=\"http://www.w3.org/2000/svg\" height=\"24px\"viewBox=\"0 0 24 24\"\n",
              "     width=\"24px\">\n",
              "    <g>\n",
              "        <path d=\"M19 3H5c-1.1 0-2 .9-2 2v14c0 1.1.9 2 2 2h14c1.1 0 2-.9 2-2V5c0-1.1-.9-2-2-2zM9 17H7v-7h2v7zm4 0h-2V7h2v10zm4 0h-2v-4h2v4z\"/>\n",
              "    </g>\n",
              "</svg>\n",
              "  </button>\n",
              "\n",
              "<style>\n",
              "  .colab-df-quickchart {\n",
              "      --bg-color: #E8F0FE;\n",
              "      --fill-color: #1967D2;\n",
              "      --hover-bg-color: #E2EBFA;\n",
              "      --hover-fill-color: #174EA6;\n",
              "      --disabled-fill-color: #AAA;\n",
              "      --disabled-bg-color: #DDD;\n",
              "  }\n",
              "\n",
              "  [theme=dark] .colab-df-quickchart {\n",
              "      --bg-color: #3B4455;\n",
              "      --fill-color: #D2E3FC;\n",
              "      --hover-bg-color: #434B5C;\n",
              "      --hover-fill-color: #FFFFFF;\n",
              "      --disabled-bg-color: #3B4455;\n",
              "      --disabled-fill-color: #666;\n",
              "  }\n",
              "\n",
              "  .colab-df-quickchart {\n",
              "    background-color: var(--bg-color);\n",
              "    border: none;\n",
              "    border-radius: 50%;\n",
              "    cursor: pointer;\n",
              "    display: none;\n",
              "    fill: var(--fill-color);\n",
              "    height: 32px;\n",
              "    padding: 0;\n",
              "    width: 32px;\n",
              "  }\n",
              "\n",
              "  .colab-df-quickchart:hover {\n",
              "    background-color: var(--hover-bg-color);\n",
              "    box-shadow: 0 1px 2px rgba(60, 64, 67, 0.3), 0 1px 3px 1px rgba(60, 64, 67, 0.15);\n",
              "    fill: var(--button-hover-fill-color);\n",
              "  }\n",
              "\n",
              "  .colab-df-quickchart-complete:disabled,\n",
              "  .colab-df-quickchart-complete:disabled:hover {\n",
              "    background-color: var(--disabled-bg-color);\n",
              "    fill: var(--disabled-fill-color);\n",
              "    box-shadow: none;\n",
              "  }\n",
              "\n",
              "  .colab-df-spinner {\n",
              "    border: 2px solid var(--fill-color);\n",
              "    border-color: transparent;\n",
              "    border-bottom-color: var(--fill-color);\n",
              "    animation:\n",
              "      spin 1s steps(1) infinite;\n",
              "  }\n",
              "\n",
              "  @keyframes spin {\n",
              "    0% {\n",
              "      border-color: transparent;\n",
              "      border-bottom-color: var(--fill-color);\n",
              "      border-left-color: var(--fill-color);\n",
              "    }\n",
              "    20% {\n",
              "      border-color: transparent;\n",
              "      border-left-color: var(--fill-color);\n",
              "      border-top-color: var(--fill-color);\n",
              "    }\n",
              "    30% {\n",
              "      border-color: transparent;\n",
              "      border-left-color: var(--fill-color);\n",
              "      border-top-color: var(--fill-color);\n",
              "      border-right-color: var(--fill-color);\n",
              "    }\n",
              "    40% {\n",
              "      border-color: transparent;\n",
              "      border-right-color: var(--fill-color);\n",
              "      border-top-color: var(--fill-color);\n",
              "    }\n",
              "    60% {\n",
              "      border-color: transparent;\n",
              "      border-right-color: var(--fill-color);\n",
              "    }\n",
              "    80% {\n",
              "      border-color: transparent;\n",
              "      border-right-color: var(--fill-color);\n",
              "      border-bottom-color: var(--fill-color);\n",
              "    }\n",
              "    90% {\n",
              "      border-color: transparent;\n",
              "      border-bottom-color: var(--fill-color);\n",
              "    }\n",
              "  }\n",
              "</style>\n",
              "\n",
              "  <script>\n",
              "    async function quickchart(key) {\n",
              "      const quickchartButtonEl =\n",
              "        document.querySelector('#' + key + ' button');\n",
              "      quickchartButtonEl.disabled = true;  // To prevent multiple clicks.\n",
              "      quickchartButtonEl.classList.add('colab-df-spinner');\n",
              "      try {\n",
              "        const charts = await google.colab.kernel.invokeFunction(\n",
              "            'suggestCharts', [key], {});\n",
              "      } catch (error) {\n",
              "        console.error('Error during call to suggestCharts:', error);\n",
              "      }\n",
              "      quickchartButtonEl.classList.remove('colab-df-spinner');\n",
              "      quickchartButtonEl.classList.add('colab-df-quickchart-complete');\n",
              "    }\n",
              "    (() => {\n",
              "      let quickchartButtonEl =\n",
              "        document.querySelector('#df-0e10c414-acf5-4139-9bc1-d2dc52f9d254 button');\n",
              "      quickchartButtonEl.style.display =\n",
              "        google.colab.kernel.accessAllowed ? 'block' : 'none';\n",
              "    })();\n",
              "  </script>\n",
              "</div>\n",
              "    </div>\n",
              "  </div>\n"
            ],
            "text/plain": [
              "                        mean      sd   hdi_5%  hdi_95%  mcse_mean  mcse_sd  \\\n",
              "alpha                  0.354  31.178  -49.984   51.408      0.429    0.526   \n",
              "beta                  -0.125  31.410  -50.940   51.172      0.419    0.510   \n",
              "rab_time_imputed[0]   24.000   0.000   24.000   24.000      0.000    0.000   \n",
              "rab_time_imputed[1]   32.000   0.000   32.000   32.000      0.000    0.000   \n",
              "rab_time_imputed[2]   48.000   0.000   48.000   48.000      0.000    0.000   \n",
              "rab_time_imputed[3]   56.000   0.000   56.000   56.000      0.000    0.000   \n",
              "rab_time_imputed[4]   61.178  23.990   20.917   99.226      0.354    0.280   \n",
              "rab_time_imputed[5]   70.000   0.000   70.000   70.000      0.000    0.000   \n",
              "rab_time_imputed[6]   72.000   0.000   72.000   72.000      0.000    0.000   \n",
              "rab_time_imputed[7]   75.000   0.000   75.000   75.000      0.000    0.000   \n",
              "rab_time_imputed[8]   80.000   0.000   80.000   80.000      0.000    0.000   \n",
              "rab_time_imputed[9]   96.000   0.000   96.000   96.000      0.000    0.000   \n",
              "likelihood[0]        102.800   0.000  102.800  102.800      0.000    0.000   \n",
              "likelihood[1]        104.500   0.000  104.500  104.500      0.000    0.000   \n",
              "likelihood[2]        106.500   0.000  106.500  106.500      0.000    0.000   \n",
              "likelihood[3]        107.000   0.000  107.000  107.000      0.000    0.000   \n",
              "likelihood[4]        107.200   0.000  107.200  107.200      0.000    0.000   \n",
              "likelihood[5]        105.100   0.000  105.100  105.100      0.000    0.000   \n",
              "likelihood[6]        103.900   0.000  103.900  103.900      0.000    0.000   \n",
              "likelihood[7]        104.709   1.830  101.711  107.661      0.027    0.019   \n",
              "likelihood[8]        103.200   0.000  103.200  103.200      0.000    0.000   \n",
              "likelihood[9]        102.100   0.000  102.100  102.100      0.000    0.000   \n",
              "\n",
              "                     ess_bulk  ess_tail  r_hat  \n",
              "alpha                  5295.0    2889.0    1.0  \n",
              "beta                   5648.0    2857.0    1.0  \n",
              "rab_time_imputed[0]    4000.0    4000.0    NaN  \n",
              "rab_time_imputed[1]    4000.0    4000.0    NaN  \n",
              "rab_time_imputed[2]    4000.0    4000.0    NaN  \n",
              "rab_time_imputed[3]    4000.0    4000.0    NaN  \n",
              "rab_time_imputed[4]    4602.0    2233.0    1.0  \n",
              "rab_time_imputed[5]    4000.0    4000.0    NaN  \n",
              "rab_time_imputed[6]    4000.0    4000.0    NaN  \n",
              "rab_time_imputed[7]    4000.0    4000.0    NaN  \n",
              "rab_time_imputed[8]    4000.0    4000.0    NaN  \n",
              "rab_time_imputed[9]    4000.0    4000.0    NaN  \n",
              "likelihood[0]          4000.0    4000.0    NaN  \n",
              "likelihood[1]          4000.0    4000.0    NaN  \n",
              "likelihood[2]          4000.0    4000.0    NaN  \n",
              "likelihood[3]          4000.0    4000.0    NaN  \n",
              "likelihood[4]          4000.0    4000.0    NaN  \n",
              "likelihood[5]          4000.0    4000.0    NaN  \n",
              "likelihood[6]          4000.0    4000.0    NaN  \n",
              "likelihood[7]          4468.0    2709.0    1.0  \n",
              "likelihood[8]          4000.0    4000.0    NaN  \n",
              "likelihood[9]          4000.0    4000.0    NaN  "
            ]
          },
          "execution_count": 7,
          "metadata": {},
          "output_type": "execute_result"
        }
      ],
      "source": [
        "az.summary(rab_trace, hdi_prob=0.90, var_names=['alpha', 'beta', 'rab_time_imputed', 'likelihood'])"
      ]
    },
    {
      "cell_type": "code",
      "execution_count": 8,
      "metadata": {
        "colab": {
          "base_uri": "https://localhost:8080/"
        },
        "id": "wmNiiXCGDnUp",
        "outputId": "f6f50261-e3d1-4dbc-8eda-c9eaf4f9aada"
      },
      "outputs": [
        {
          "data": {
            "text/plain": [
              "r2        0.355498\n",
              "r2_std    0.108543\n",
              "dtype: float64"
            ]
          },
          "execution_count": 8,
          "metadata": {},
          "output_type": "execute_result"
        }
      ],
      "source": [
        "rab_temp_pred = rab_pred.posterior_predictive.stack(sample=(\"chain\", \"draw\"))[\"likelihood\"].values.T\n",
        "az.r2_score(rab_temp, rab_temp_pred)"
      ]
    },
    {
      "cell_type": "markdown",
      "metadata": {
        "id": "ESOwYKreauU_"
      },
      "source": [
        "$$\n",
        "\\text{The } R^2 ≈ 0.36.\\\\\n",
        "\\text{The 90\\% Credible Set for the slope does contain 0.} \\Rightarrow \\\\\n",
        "\\text{The difference is not statistically signifcant.}\n",
        "$$"
      ]
    },
    {
      "cell_type": "markdown",
      "metadata": {
        "id": "71v5l0UeDnUq"
      },
      "source": [
        "$$\n",
        "\\text{PART B}\n",
        "$$"
      ]
    },
    {
      "cell_type": "code",
      "execution_count": 10,
      "metadata": {
        "id": "zqrSm4MuDnUq"
      },
      "outputs": [],
      "source": [
        "rabb = rabbits.copy()\n",
        "rabb['time_2'] = rabb['time_after_injection'] ** 2\n",
        "\n",
        "rabb_time = rabb[['time_after_injection', 'time_2']]\n",
        "rabb_temp = rabb['temperature']"
      ]
    },
    {
      "cell_type": "code",
      "execution_count": 12,
      "metadata": {
        "colab": {
          "base_uri": "https://localhost:8080/"
        },
        "id": "fhGmP3lGlei8",
        "outputId": "da4bccc1-e6a1-4950-fd08-0ac8ee367a8c"
      },
      "outputs": [
        {
          "name": "stdout",
          "output_type": "stream",
          "text": [
            "rab_time_mean=61.44444444444444\n",
            "rab_time_std=23.415332109064302\n",
            "rabb_time2_mean=4262.777777777777\n",
            "rabb_time2_std=2770.400051336349\n",
            "rab_temp_mean=104.7\n",
            "rab_temp_std=1.8788294228055948\n"
          ]
        }
      ],
      "source": [
        "# Get X mean/std\n",
        "rabb_time_mean = rabb_time['time_after_injection'].mean()\n",
        "rabb_time_std = rabb_time['time_after_injection'].std()\n",
        "\n",
        "rabb_time2_mean = rabb_time['time_2'].mean()\n",
        "rabb_time2_std = rabb_time['time_2'].std()\n",
        "\n",
        "# Get y mean/std\n",
        "rabb_temp_mean = rabb_temp.mean()\n",
        "rabb_temp_std = rabb_temp.std()\n",
        "\n",
        "print(f\"{rab_time_mean=}\\n{rab_time_std=}\\n{rabb_time2_mean=}\\n{rabb_time2_std=}\\n{rab_temp_mean=}\\n{rab_temp_std=}\")"
      ]
    },
    {
      "cell_type": "code",
      "execution_count": 15,
      "metadata": {
        "id": "8wD5QFQ7mxlv"
      },
      "outputs": [],
      "source": [
        "# Fix X missing values\n",
        "rabb_time = np.nan_to_num(rabb_time, nan=-1)\n",
        "rabb_time = np.ma.masked_values(rabb_time, value=-1)\n",
        "\n",
        "# Fix y missing values\n",
        "rabb_temp = np.nan_to_num(rabb_temp, nan=-1)\n",
        "rabb_temp = np.ma.masked_values(rabb_temp, value=-1)"
      ]
    },
    {
      "cell_type": "code",
      "execution_count": 16,
      "metadata": {
        "colab": {
          "base_uri": "https://localhost:8080/"
        },
        "id": "RMEW7joSnQBm",
        "outputId": "76875a9c-d5c2-4e82-f388-f27dca16ef45"
      },
      "outputs": [
        {
          "name": "stdout",
          "output_type": "stream",
          "text": [
            "rabb_time=masked_array(\n",
            "  data=[[24.0, 576.0],\n",
            "        [32.0, 1024.0],\n",
            "        [48.0, 2304.0],\n",
            "        [56.0, 3136.0],\n",
            "        [--, --],\n",
            "        [70.0, 4900.0],\n",
            "        [72.0, 5184.0],\n",
            "        [75.0, 5625.0],\n",
            "        [80.0, 6400.0],\n",
            "        [96.0, 9216.0]],\n",
            "  mask=[[False, False],\n",
            "        [False, False],\n",
            "        [False, False],\n",
            "        [False, False],\n",
            "        [ True,  True],\n",
            "        [False, False],\n",
            "        [False, False],\n",
            "        [False, False],\n",
            "        [False, False],\n",
            "        [False, False]],\n",
            "  fill_value=-1.0)\n",
            "[102.8 104.5 106.5 107.0 107.2 105.1 103.9 -- 103.2 102.1]\n"
          ]
        }
      ],
      "source": [
        "print(f\"{rabb_time=}\\n{rabb_temp}\")"
      ]
    },
    {
      "cell_type": "code",
      "execution_count": null,
      "metadata": {
        "id": "tS4KEuztnWMr"
      },
      "outputs": [],
      "source": [
        "with pm.Model() as rabb:\n",
        "\n",
        "    alphab = pm.Normal(\"alphab\", mu=0, tau=0.001)\n",
        "    betab = pm.Normal(\"betab\", mu=0, tau=0.001)\n",
        "\n",
        "    rabb_time_imputed = pm.Normal(\"rabb_time_imputed\", mu=rabb_time_mean, sigma=rabb_time_std, observed=rabb_time)\n",
        "\n",
        "    mu = alphab + betab * rab_time_imputed\n",
        "\n",
        "    pm.Normal(\"likelihoodb\", mu=rabb_temp_mean, sigma=rabb_temp_std, observed=rabb_temp)\n",
        "\n",
        "    rabb_trace = pm.sample(draws=2000, tune=1000, target_accept=0.95)\n",
        "\n",
        "    rabb_pred = pm.sample_posterior_predictive(rabb_trace)"
      ]
    },
    {
      "cell_type": "code",
      "execution_count": null,
      "metadata": {
        "id": "Rl7bNcK_nq5b"
      },
      "outputs": [],
      "source": [
        "az.summary(rabb_trace, hdi_prob=0.90, var_names=['alphab', 'betab', 'rabb_time_imputed', 'likelihoodb'])"
      ]
    },
    {
      "cell_type": "code",
      "execution_count": null,
      "metadata": {
        "id": "ZammS3rhnqpK"
      },
      "outputs": [],
      "source": [
        "rabb_temp_pred = rabb_pred.posterior_predictive.stack(sample=(\"chain\", \"draw\"))[\"likelihoodb\"].values.T\n",
        "az.r2_score(rabb_temp, rabb_temp_pred)"
      ]
    }
  ],
  "metadata": {
    "colab": {
      "provenance": []
    },
    "kernelspec": {
      "display_name": "bayes_stats",
      "language": "python",
      "name": "python3"
    },
    "language_info": {
      "codemirror_mode": {
        "name": "ipython",
        "version": 3
      },
      "file_extension": ".py",
      "mimetype": "text/x-python",
      "name": "python",
      "nbconvert_exporter": "python",
      "pygments_lexer": "ipython3",
      "version": "3.11.4"
    },
    "orig_nbformat": 4
  },
  "nbformat": 4,
  "nbformat_minor": 0
}
