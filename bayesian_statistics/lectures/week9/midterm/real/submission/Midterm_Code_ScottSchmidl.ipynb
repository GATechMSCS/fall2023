{
 "cells": [
  {
   "cell_type": "markdown",
   "metadata": {},
   "source": [
    "### IMPORTS"
   ]
  },
  {
   "cell_type": "code",
   "execution_count": null,
   "metadata": {},
   "outputs": [],
   "source": [
    "import matplotlib.pyplot as plt\n",
    "import numpy as np\n",
    "from tqdm.auto import tqdm\n",
    "import scipy as sp"
   ]
  },
  {
   "cell_type": "markdown",
   "metadata": {},
   "source": [
    "$\\textbf{QUESTION 1}$\n",
    "$$\n",
    "\\text{Bernoulli PDF = }\\ p(x | \\theta) = p^k (1-p)^1-k\\\\\n",
    "\\text{Jeffreys' Prior = } p(theta) \\propto \\sqrt{I(\\theta)} = \\sqrt{E\\left [(\\frac{d}{d\\theta} \\log(f(x | theta)))^2 \\right]} \\Rightarrow\\\\\n",
    "log(f(x|theta)) = log (p^k (1-p)^k \\Rightarrow\n",
    "\\\\~\\\\\n",
    "klogp + log(1-p) - klog(1-p) \\Rightarrow\\\\\n",
    "\\frac{d}{dp} (klogp + log(1-p) - klog(1-p)) \\Rightarrow\\\\\n",
    "\\frac{k}{p} - \\frac{1}{1-p} + \\frac{k}{1-p} \\Rightarrow\\\\~\\\\\n",
    "\\frac{k}{p} - \\frac{1+k}{1-p} \\Rightarrow \\\\\n",
    "\\text{Jeffreys' Prior} = \\sqrt{E\\left[(\\frac{k}{p} - \\frac{1+k}{1-p})^2\\right]} \\Rightarrow\\\\\n",
    "\\text{For Bernoulli we know that k = 1 therefore 1-k = 0} \\Rightarrow \\sqrt{p(\\frac{1}{p} - \\frac{1-1}{1-p})^2 + (1-p)(\\frac{1-1}{p} - \\frac{1}{1-p})^2)}\\Rightarrow\\\\\n",
    "\\sqrt{p(\\frac{1}{p^2}) + (1-p)\\frac{1}{(1-p)^2}} \\Rightarrow\\\\\n",
    "\\sqrt{\\frac{1}{p} + \\frac{1}{(1-p)}} \\Rightarrow\\\\\n",
    "\\frac{1}{\\sqrt{p(1-p)}}\\\\~\\\\\n",
    "\\text{In our case with}\\ sin^{2}{(\\theta)} \\ \\text{we have the Jeffreys' Prior for} \\ \\theta \\ \\text{with}\\ Bernoulli(sin^2(\\theta)) = p(\\theta) \\Rightarrow \\\\ p(sin^2(\\theta)) * \\frac{d \\ sin^2 (theta)}{d\\theta} \\Rightarrow \\\\~\\\\\n",
    "\\frac{2\\ sin (\\theta)\\ cos(\\theta)}{\\sqrt{sin^2(\\theta)}(1-sin^2(theta))}\n",
    "$$"
   ]
  },
  {
   "cell_type": "markdown",
   "metadata": {},
   "source": [
    "$\\textbf{QUESTION 2}$\n",
    "$$\n",
    "\\text{Posterior Distribution of}\\ \\mu = \\text{likelihood}\\ \\times \\ [\\text{priors}] \\Rightarrow\\\\\n",
    "p(y | \\mu) = \\frac{1}{\\sqrt{2\\pi}} e^{-\\frac{1}{2} (1-\\mu)^2} \\ \\text{and} \\\\ p(\\mu) = \\frac{.5}{\\sqrt{2\\pi}} e^{-\\frac{1}{2} (\\mu + 1)^2} + \\frac{.5}{\\sqrt{2\\pi}} e^{-\\frac{1}{2} (\\mu - 1)^2}\\\\\n",
    "p(\\mu | y) \\propto \\frac{1}{\\sqrt{2\\pi}} e^{-\\frac{1}{2} (1-\\mu)^2} \\left[\\frac{.5}{\\sqrt{2\\pi}} e^{-\\frac{1}{2} (\\mu + 1)^2} + \\frac{.5}{\\sqrt{2\\pi}} e^{-\\frac{1}{2} (\\mu - 1)^2}\\right] \\Rightarrow\n",
    "\\text{Remove constants} \\Rightarrow \\\\~\\\\\n",
    "e^{-\\frac{1}{2} (1-\\mu)^2} \\left[e^{-\\frac{1}{2} (\\mu + 1)^2} + e^{-\\frac{1}{2} (\\mu - 1)^2}\\right] \\Rightarrow \\\\~\\\\\n",
    "\\frac{(1-\\mu)^2 }{2} = -\\frac{1}{2} + \\mu -\\frac{\\mu^{2}}{2}\\\\~\\\\\n",
    "\\frac{(\\mu+1)^2 }{2} = -\\frac{1}{2} - \\mu -\\frac{\\mu^{2}}{2}\\\\~\\\\\n",
    "\\frac{(\\mu-1)^2 }{2} = -\\frac{1}{2} + \\mu -\\frac{\\mu^{2}}{2}\\\\~\\\\\n",
    "\\text{Since the above are the exponents of e, when we multipe the first e through}\\\\\n",
    "\\text{and add exponents we get:} \\\\\n",
    "e^{-\\mu^{2} -1} + e^{-\\mu^2 +2\\mu-1}\n",
    "$$"
   ]
  },
  {
   "cell_type": "markdown",
   "metadata": {},
   "source": [
    "$\\textbf{QUESTION 3}$\n",
    "$$\n",
    "\\text{posterior (after plugging in values for mean, standard deviation, and y)} \\Rightarrow \\\\ \n",
    "\\frac{1}{\\sqrt{2\\pi}} e^{-\\frac{(0.5-\\theta_{1} - \\theta_{2})^2}{2}} \\times \\frac{1}{\\sqrt{2\\pi}v^2} e^{-\\frac{\\theta_{1}^2}{2v^4}} \\times \\frac{1}{\\sqrt{2\\pi}v^2} e^{-\\frac{\\theta_{2}^2}{2v^4}} \\times \\frac{10^{10}}{\\Gamma(10)} v^{-22}e^{\\frac{-10}{v^2}} \\Rightarrow \\\\\n",
    "\\text{remove constants that don't have}\\ \\theta_1, \\theta_2, or \\ v^2 \\Rightarrow \\\\\n",
    "e^{-\\frac{(0.5-\\theta_{1} - \\theta_{2})^2}{2}} \\times \\frac{1}{v^2} e^{-\\frac{\\theta_{1}^2}{2v^4}} \\times \\frac{1}{v^2} e^{-\\frac{\\theta_{2}^2}{2v^4}} \\times v^{-22}e^{\\frac{-10}{v^2}} \\Rightarrow \\\\\n",
    "\\\\~\\\\\n",
    "\\text{posterior on}\\ \\theta_{1} = e^{-\\frac{\\theta_1 - \\theta_{1}^{2}}{2} - \\theta_1 \\theta_2 -\\frac{\\theta_{1}^{2}}{2v^4}}\n",
    "\\\\~\\\\\n",
    "\\text{posterior on}\\ \\theta_{2} = e^{-\\frac{\\theta_2 - \\theta_{2}^{2}}{2} - \\theta_1 \\theta_2 -\\frac{\\theta_{2}^{2}}{2v^4}}\n",
    "\\\\~\\\\\n",
    "\\text{posterior on}\\ v^{2} = v^{-26} \\times e^{-\\frac{\\theta_1^{2} - \\theta_2^{2} - 20v^2}{2v^4}}\n",
    "$$"
   ]
  },
  {
   "cell_type": "code",
   "execution_count": null,
   "metadata": {},
   "outputs": [],
   "source": [
    "# CODE IS BORROWED AND AMENDED FROM AARONS GITHUB\n",
    "rng = np.random.default_rng(1)\n",
    "samples = 50000\n",
    "burn = 1000\n",
    "sigma = 1\n",
    "mu1 = 0\n",
    "mu2 = 0\n",
    "alpha, beta = 10, 10\n",
    "\n",
    "# Initial arrays\n",
    "ys =  np.zeros(samples)\n",
    "thetas1 =  np.zeros(samples)\n",
    "thetas2 =  np.zeros(samples)\n",
    "vs =  np.zeros(samples)\n",
    "\n",
    "for i in tqdm(range(samples)):\n",
    "\n",
    "    ## Distrbution from which to sample belong here\n",
    "    v_2 = sp.stats.invgamma.pdf(loc=alpha, scale=beta)\n",
    "    theta1, theta2 = rng.normal(mu1, v_2), rng.normal(mu2, v_2)\n",
    "    y = rng.normal(theta1+theta2, sigma)\n",
    "\n",
    "    # Build arrays for plotting\n",
    "    ys[i] = y\n",
    "    thetas1[i] = theta1\n",
    "    thetas2[i] = theta2\n",
    "    vs[i] = vs\n",
    "\n",
    "# Burn values off of arrays\n",
    "ys =  ys[burn:]\n",
    "theta1 =  thetas1[burn:]\n",
    "theta2 =  thetas2[burn:]\n",
    "vs =  vs[burn:]"
   ]
  },
  {
   "cell_type": "code",
   "execution_count": null,
   "metadata": {},
   "outputs": [],
   "source": [
    "# CODE IS BORROWED AND AMENDED FROM AARONS GITHUB\n",
    "\n",
    "fig, (ax1, ax2, ax3) = plt.subplots(3, 1, figsize=(7, 10))\n",
    "\n",
    "# Histogram 1\n",
    "ax1.grid(True)\n",
    "ax1.hist(ys, color=\"lightgreen\", density=True, bins=50)\n",
    "ax1.set_xlabel(\"y\")\n",
    "\n",
    "# Histogram 2 (theta1 and thetas2 have the same distribution)\n",
    "ax2.grid(True)\n",
    "ax2.hist(thetas1, color=\"lightblue\", density=True, bins=50)\n",
    "ax2.set_xlabel(\"theta\")\n",
    "\n",
    "# Histogram 3\n",
    "ax3.grid(True)\n",
    "ax3.hist(vs, color=\"lightgreen\", density=True, bins=50)\n",
    "ax3.set_xlabel(\"v\")\n",
    "\n",
    "plt.show()\n",
    "\n",
    "# Means and Variances\n",
    "print(f\"{np.mean(ys)=}\")\n",
    "print(f\"{np.mean(thetas1)=}\")\n",
    "print(f\"{np.mean(vs)=}\")\n"
   ]
  },
  {
   "cell_type": "code",
   "execution_count": null,
   "metadata": {},
   "outputs": [],
   "source": [
    "# CODE IS BORROWED BUT STILL NEEDS TO BE AMENDED FROM AARONS GITHUB\n",
    "\n",
    "fig, (ax1, ax2, ax3) = plt.subplots(3, 1, figsize=(7, 10))\n",
    "\n",
    "# Equitailed Credible Sets\n",
    "lower_eqt = gamma.ppf(0.025, a, scale=1/b)\n",
    "upper_eqt = gamma.ppf(0.975, a, scale=1/b)\n",
    "\n",
    "plt.plot(ys, color=\"black\", label=\"PDF\")\n",
    "\n",
    "plt.plot([lower_eqt, upper_eqt],\n",
    "         gamma.pdf(lower_eqt, a, scale=1 / b), gamma.pdf(upper_eqt, a, scale=1 / b)],)\n",
    "plt.axvline(lower_eqt, linestyle=\"dashed\", linewidth=1, label=\"Set boundaries\")\n",
    "plt.axvline(upper_eqt, linestyle=\"dashed\", linewidth=1)\n",
    "\n",
    "plt.show()\n"
   ]
  }
 ],
 "metadata": {
  "kernelspec": {
   "display_name": "bayes_stats",
   "language": "python",
   "name": "python3"
  },
  "language_info": {
   "codemirror_mode": {
    "name": "ipython",
    "version": 3
   },
   "file_extension": ".py",
   "mimetype": "text/x-python",
   "name": "python",
   "nbconvert_exporter": "python",
   "pygments_lexer": "ipython3",
   "version": "3.11.4"
  },
  "orig_nbformat": 4
 },
 "nbformat": 4,
 "nbformat_minor": 2
}
