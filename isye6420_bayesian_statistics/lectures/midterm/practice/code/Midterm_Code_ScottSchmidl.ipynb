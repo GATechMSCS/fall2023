{
 "cells": [
  {
   "cell_type": "markdown",
   "metadata": {},
   "source": [
    "### IMPORTS"
   ]
  },
  {
   "cell_type": "code",
   "execution_count": 2,
   "metadata": {},
   "outputs": [
    {
     "name": "stderr",
     "output_type": "stream",
     "text": [
      "/home/leonardo_leads/miniconda3/envs/bayes_stats/lib/python3.11/site-packages/tqdm/auto.py:21: TqdmWarning: IProgress not found. Please update jupyter and ipywidgets. See https://ipywidgets.readthedocs.io/en/stable/user_install.html\n",
      "  from .autonotebook import tqdm as notebook_tqdm\n"
     ]
    }
   ],
   "source": [
    "import matplotlib.pyplot as plt\n",
    "import networkx as nx\n",
    "from pgmpy.factors.discrete import TabularCPD\n",
    "from pgmpy.inference import CausalInference\n",
    "from pgmpy.models import BayesianNetwork"
   ]
  },
  {
   "cell_type": "markdown",
   "metadata": {},
   "source": [
    "$\\textbf{QUESTION 1}$\n",
    "$$\n",
    "\\textbf{PART A}\n",
    "$$"
   ]
  },
  {
   "cell_type": "code",
   "execution_count": 4,
   "metadata": {},
   "outputs": [
    {
     "data": {
      "text/plain": [
       "'\\n# PARAMETERS\\ncpd_A = TabularCPD(\\n    variable=\"A\",\\n    variable_card=2,\\n    values=[[prob_a],\\n            [prob_notA]])\\n\\ncpd_car = TabularCPD(\\n    variable=\"Car\",\\n    variable_card=2,\\n    values=[[prob_car_given_a, 0.1],\\n            [prob_car_not_a, 0.9]],\\n    evidence=[\"A\"],\\n    evidence_card=[2],)\\n\\ncpd_beach = TabularCPD(\\n    variable=\"Coco Beach\",\\n    variable_card=2,\\n    values=[[prob_cocoBeach_given_car, 0.2],\\n            [0.3, 0.8]],\\n    evidence=[\"Car\"],\\n    evidence_card=[2],)\\n\\ncpd_campus = TabularCPD(\\n    variable=\"Campus\",\\n    variable_card=2,\\n    values=[[prob_stayCampus_given_car, 0.8],\\n            [0.7, 0.2]],\\n    evidence=[\"Car\"],\\n    evidence_card=[2],)\\n\\n# ADD PARAMETERS\\ngrade_model.add_cpds(cpd_A,\\n                     cpd_car,\\n                     cpd_beach,\\n                     cpd_campus,)\\n\\ngrade_model.check_model()\\n\\nprint(f\"Nodes: {grade_model.nodes()}\")\\nprint(f\"Edges: {grade_model.edges()}\")\\n\\noptions = {\\n    \"arrowsize\": 40,\\n    \"font_size\": 8,\\n    \"font_weight\": \"bold\",\\n    \"node_size\": 4000,\\n    \"node_color\": \"white\",\\n    \"edgecolors\": \"black\",\\n    \"linewidths\": 2,\\n    \"width\": 5,\\n    \"alpha\": 0.9,}\\n\\nnx.draw_circular(grade_model, with_labels=True, **options)\\n\\n# PLOTTING\\nax = plt.gca()\\nax.margins(0.20)\\nplt.axis(\"off\")\\nplt.show()\\n\\n# INFERENCE\\ngrade_infer = CausalInference(grade_model)\\n\\n# PROB CHAD GOT AN A GIVEN HE\\'S IN COCO BEACH\\nq = grade_infer.query(variables=[\"A\"],\\n                      evidence={\"Coco Beach\": True})\\nprint(q)\\n'"
      ]
     },
     "execution_count": 4,
     "metadata": {},
     "output_type": "execute_result"
    }
   ],
   "source": [
    "# Class Performance\n",
    "prob_a, prob_b, prob_c_less = 0.6, 0.3, 0.1\n",
    "\n",
    "# Market is bullish\n",
    "bull_prob_car_a, bull_prob_car_b, bull_prob_car_lessB = 0.8, 0.5, 0.2\n",
    "bull_prob_car_a_comp, bull_prob_car_b_comp, bull_prob_car_lessB_comp = 0.2, 0.5, 0.8\n",
    "\n",
    "# Market is bearish\n",
    "bear_prob_car_a, bear_prob_car_b, bear_prob_car_lessB = 0.5, 0.3, 0.1\n",
    "bear_prob_car_a_comp, bear_prob_car_b_comp, bear_prob_car_lessB_comp = 0.5, 0.7, 0.9\n",
    "\n",
    "# Market Type: Bull or Bear\n",
    "prob_bull_market, prob_bear_market = 0.5, 0.5\n",
    "\n",
    "# Traveling: Car (Gift)\n",
    "prob_rs_given_car, prob_sc_given_car = 0.7, 0.3\n",
    "prob_rs_given_not_car, prob_sc_given_not_car = 0.2, 0.8\n",
    "\n",
    "# Traveling: Airplane (sweepstakes)\n",
    "prob_vaca__win, prob_vaca_not_win = 0.99, 0.01\n",
    "prob_vaca_win_comp, prob_vaca_not_win_comp = 0.01, 0.99\n",
    "\n",
    "# NETWORK CONFIG\n",
    "grade_model = BayesianNetwork([(\"Market\", \"Car\"),\n",
    "                               (\"Grade\", \"Car\"),\n",
    "                               (\"Car\", \"Redington\"),\n",
    "                               (\"Sweepstakes\", \"Redington\"),])\n",
    "\n",
    "### THE BELOW NEEDS TO BE UPDATED\n",
    "\"\"\"\n",
    "# PARAMETERS\n",
    "cpd_A = TabularCPD(\n",
    "    variable=\"A\",\n",
    "    variable_card=2,\n",
    "    values=[[prob_a],\n",
    "            [prob_notA]])\n",
    "\n",
    "cpd_car = TabularCPD(\n",
    "    variable=\"Car\",\n",
    "    variable_card=2,\n",
    "    values=[[prob_car_given_a, 0.1],\n",
    "            [prob_car_not_a, 0.9]],\n",
    "    evidence=[\"A\"],\n",
    "    evidence_card=[2],)\n",
    "\n",
    "cpd_beach = TabularCPD(\n",
    "    variable=\"Coco Beach\",\n",
    "    variable_card=2,\n",
    "    values=[[prob_cocoBeach_given_car, 0.2],\n",
    "            [0.3, 0.8]],\n",
    "    evidence=[\"Car\"],\n",
    "    evidence_card=[2],)\n",
    "\n",
    "cpd_campus = TabularCPD(\n",
    "    variable=\"Campus\",\n",
    "    variable_card=2,\n",
    "    values=[[prob_stayCampus_given_car, 0.8],\n",
    "            [0.7, 0.2]],\n",
    "    evidence=[\"Car\"],\n",
    "    evidence_card=[2],)\n",
    "\n",
    "# ADD PARAMETERS\n",
    "grade_model.add_cpds(cpd_A,\n",
    "                     cpd_car,\n",
    "                     cpd_beach,\n",
    "                     cpd_campus,)\n",
    "\n",
    "grade_model.check_model()\n",
    "\n",
    "print(f\"Nodes: {grade_model.nodes()}\")\n",
    "print(f\"Edges: {grade_model.edges()}\")\n",
    "\n",
    "options = {\n",
    "    \"arrowsize\": 40,\n",
    "    \"font_size\": 8,\n",
    "    \"font_weight\": \"bold\",\n",
    "    \"node_size\": 4000,\n",
    "    \"node_color\": \"white\",\n",
    "    \"edgecolors\": \"black\",\n",
    "    \"linewidths\": 2,\n",
    "    \"width\": 5,\n",
    "    \"alpha\": 0.9,}\n",
    "\n",
    "nx.draw_circular(grade_model, with_labels=True, **options)\n",
    "\n",
    "# PLOTTING\n",
    "ax = plt.gca()\n",
    "ax.margins(0.20)\n",
    "plt.axis(\"off\")\n",
    "plt.show()\n",
    "\n",
    "# INFERENCE\n",
    "grade_infer = CausalInference(grade_model)\n",
    "\n",
    "# PROB CHAD GOT AN A GIVEN HE'S IN COCO BEACH\n",
    "q = grade_infer.query(variables=[\"A\"],\n",
    "                      evidence={\"Coco Beach\": True})\n",
    "print(q)\n",
    "\"\"\""
   ]
  },
  {
   "cell_type": "markdown",
   "metadata": {},
   "source": [
    "$$\\textbf{PART B}$$"
   ]
  },
  {
   "cell_type": "code",
   "execution_count": null,
   "metadata": {},
   "outputs": [],
   "source": []
  },
  {
   "cell_type": "markdown",
   "metadata": {},
   "source": [
    "$$\n",
    "\\textbf{PART C}\n",
    "$$"
   ]
  },
  {
   "cell_type": "code",
   "execution_count": null,
   "metadata": {},
   "outputs": [],
   "source": []
  },
  {
   "cell_type": "markdown",
   "metadata": {},
   "source": [
    "$$\\textbf{PART D}\n",
    "$$"
   ]
  },
  {
   "cell_type": "code",
   "execution_count": null,
   "metadata": {},
   "outputs": [],
   "source": []
  },
  {
   "cell_type": "markdown",
   "metadata": {},
   "source": [
    "$\\textbf{QUESTION 2}$"
   ]
  },
  {
   "cell_type": "code",
   "execution_count": null,
   "metadata": {},
   "outputs": [],
   "source": []
  }
 ],
 "metadata": {
  "kernelspec": {
   "display_name": "bayes_stats",
   "language": "python",
   "name": "python3"
  },
  "language_info": {
   "codemirror_mode": {
    "name": "ipython",
    "version": 3
   },
   "file_extension": ".py",
   "mimetype": "text/x-python",
   "name": "python",
   "nbconvert_exporter": "python",
   "pygments_lexer": "ipython3",
   "version": "3.11.4"
  },
  "orig_nbformat": 4
 },
 "nbformat": 4,
 "nbformat_minor": 2
}
