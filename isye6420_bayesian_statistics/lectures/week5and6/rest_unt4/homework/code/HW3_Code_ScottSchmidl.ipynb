{
 "cells": [
  {
   "cell_type": "code",
   "execution_count": 20,
   "metadata": {},
   "outputs": [],
   "source": [
    "# IMPORTS\n",
    "import sympy as sp\n",
    "import numpy as np\n",
    "from scipy.optimize import fsolve\n",
    "from scipy.special import gamma as gamma_func\n",
    "from scipy.stats import gamma, expon, norm"
   ]
  },
  {
   "cell_type": "markdown",
   "metadata": {},
   "source": [
    "### QUESTION 1"
   ]
  },
  {
   "cell_type": "code",
   "execution_count": 24,
   "metadata": {},
   "outputs": [
    {
     "name": "stdout",
     "output_type": "stream",
     "text": [
      "------------QUESTION 1-----------\n",
      "***PART A***\n",
      "1.375\n",
      "1.25\n",
      "\n",
      "***PART B***\n",
      "manual = (0.477333970912402, 2.738293658654161)\n",
      "\n",
      "***PART C***\n",
      "HPD credible set: (0.3708253116267309, 2.540997875338491)\n",
      "length = 2.17017256371176\n",
      "probability within these bounds: 0.9501195224844979\n",
      "\n",
      "***PART D***\n",
      "1.125\n",
      "\n",
      "***PART E***\n",
      "probability of null hypothesis: 0.28669617036996786\n",
      "probability is 28%, therefore the alternative hypothesis is favored\n"
     ]
    }
   ],
   "source": [
    "# QUESTION 1\n",
    "print(\"------------QUESTION 1-----------\")\n",
    "'''\n",
    "Bayes Estimator\n",
    "'''\n",
    "# A)\n",
    "print(\"***PART A***\")\n",
    "n = 4\n",
    "\n",
    "'''What is the Bayes estimator for lambda?'''\n",
    "alpha = 5.5\n",
    "beta = 4\n",
    "bayes_estimator = alpha / beta\n",
    "print(bayes_estimator)\n",
    "\n",
    "'''MLE'''\n",
    "sum_x = sum([1,2,2,0])\n",
    "mle = sum_x / n\n",
    "print(mle)\n",
    "\n",
    "# B)\n",
    "print(\"\\n***PART B***\")\n",
    "'''\n",
    "code borrowed directly from lecture TA jupyter nb\n",
    "'''\n",
    "a = 5.5\n",
    "b = 4\n",
    "n = 1000000\n",
    "samples = gamma.rvs(a, scale=1 / b, size=n)\n",
    "\n",
    "x = np.sort(samples)\n",
    "alpha = 0.05\n",
    "\n",
    "lower_idx = int(np.floor(alpha / 2 * n))\n",
    "upper_idx = int(np.floor((1 - alpha / 2) * n))\n",
    "\n",
    "print(f\"manual = {x[lower_idx], x[upper_idx]}\")\n",
    "\n",
    "np.quantile(samples, (0.025, 0.975))\n",
    "\n",
    "# C)\n",
    "print(\"\\n***PART C***\")\n",
    "'''\n",
    "code borrowed directly from lecture TA jupyter nb\n",
    "'''\n",
    "def calc_hdi(samples: np.ndarray, alpha: float = 0.05) -> tuple:\n",
    "    n = len(samples)\n",
    "    x = np.sort(samples)\n",
    "\n",
    "    lower_idx = int(np.floor(alpha * n))\n",
    "    x_left = x[:lower_idx]\n",
    "    x_right = x[n - lower_idx :]\n",
    "\n",
    "    idx = np.argmin(x_right - x_left)\n",
    "\n",
    "    upper_bound = x_right[idx]\n",
    "    lower_bound = x_left[idx]\n",
    "\n",
    "    return lower_bound, upper_bound\n",
    "\n",
    "a = 5.5\n",
    "b = 4\n",
    "samples = gamma.rvs(a, scale=1 / b, size=1000000)\n",
    "lower, upper = calc_hdi(samples, alpha=0.05)\n",
    "\n",
    "prob = gamma.cdf(upper, a, scale=1 / b) - gamma.cdf(lower, a, scale=1 / b)\n",
    "\n",
    "print(f\"HPD credible set: {lower, upper}\")\n",
    "print(f\"length = {upper - lower}\")\n",
    "print(f\"probability within these bounds: {prob}\")\n",
    "\n",
    "# D)\n",
    "print(\"\\n***PART D***\")\n",
    "'''\n",
    "Find the mode\n",
    "'''\n",
    "mode = (a -1)/b\n",
    "print(mode)\n",
    "\n",
    "# E)\n",
    "print(\"\\n***PART E***\")\n",
    "hyp = gamma.cdf(1, a, scale=1/b)\n",
    "print(f\"probability of null hypothesis: {hyp}\")\n",
    "print(\"probability is 28%, therefore the alternative hypothesis is favored\")"
   ]
  },
  {
   "cell_type": "markdown",
   "metadata": {},
   "source": [
    "### QUESTION 2"
   ]
  },
  {
   "cell_type": "code",
   "execution_count": 25,
   "metadata": {},
   "outputs": [
    {
     "name": "stdout",
     "output_type": "stream",
     "text": [
      "------------QUESTION 2-----------\n"
     ]
    }
   ],
   "source": [
    "print(\"------------QUESTION 2-----------\")\n",
    "'''\n",
    "Jeffreys' Prior\n",
    "'''\n",
    "x, a, e, pi = sp.symbols('x a e pi')\n",
    "sp.init_printing(use_unicode=True)\n",
    "\n",
    "expr = (3/2) * sp.ln(a) - (a*(x**2))/2\n",
    "\n",
    "first_d = sp.diff(expr, a)\n",
    "#print(sp.latex(first_d))\n",
    "\n",
    "second_d = sp.diff(first_d, a)\n",
    "#print(sp.latex(second_d))\n",
    "\n",
    "#print(sp.latex(1/a))\n",
    "\n"
   ]
  },
  {
   "cell_type": "markdown",
   "metadata": {},
   "source": [
    "First Derivative:\n",
    "$-\\frac{x^{2}}{2} + \\frac{3}{2a}$\n",
    "\n",
    "Second Derivative:\n",
    "$- \\frac{3}{2a^{2}}$\n",
    "\n",
    "Jeffreys' Prior:\n",
    "$\\frac{1}{a}$\n",
    "\n",
    "Transformation:\n",
    "$g(a)=ln(a) => g'(a) = \\frac{1}{a} => \\frac{1}{a} * \\frac{1}{\\frac{1}{a}} => \\frac{1}{a} * a = 1$"
   ]
  },
  {
   "cell_type": "markdown",
   "metadata": {},
   "source": [
    "### QUESTION 3"
   ]
  },
  {
   "cell_type": "code",
   "execution_count": 51,
   "metadata": {},
   "outputs": [
    {
     "name": "stdout",
     "output_type": "stream",
     "text": [
      "\n",
      "------------QUESTION 3-----------\n",
      "\\frac{\\Gamma(a) b^{- a} d\\theta e^{- \\frac{1}{b \\theta}} e^{- \\frac{y_{i}}{\\theta}} \\theta^{- a - 1}}{\\theta}\n"
     ]
    }
   ],
   "source": [
    "print(\"\\n------------QUESTION 3-----------\")\n",
    "'''\n",
    "Empirical Bayes\n",
    "'''\n",
    "\n",
    "theta, a, e, y, b, Gamma, dtheta  = sp.symbols('theta a e y_i b \\Gamma(a) d\\\\theta')\n",
    "sp.init_printing(use_unicode=True)\n",
    "\n",
    "prior = ((1/(b**a)) * Gamma)* theta**(-a-1) * e**(-1/(b*theta))\n",
    "#print(sp.latex(prior))\n",
    "\n",
    "likelihood = (1/theta) * e**(-y/theta)\n",
    "#print(sp.latex(likelihood))\n",
    "\n",
    "posterior = prior * likelihood\n",
    "#print(sp.latex(sp.integrate(posterior, dtheta)))\n"
   ]
  },
  {
   "cell_type": "markdown",
   "metadata": {},
   "source": [
    "Prior: $$\\frac{1}{b^a \\Gamma(a)} \\theta^{- a - 1} e^{- \\frac{1}{b \\theta}}$$\n",
    "Likelihood: $$\\frac{1}{\\theta}{e^{- \\frac{y_{i}}{\\theta}}}$$\n",
    "$$e^{\\frac{y + 1}{\\theta}} \\theta^{- a - 1}$$\n",
    "posterior:$$\\int\\frac{1}{\\theta}{e^{- \\frac{y_{i}}{\\theta}}}\\frac{1}{b^a \\Gamma(a)} \\theta^{- a - 1} e^{- \\frac{1}{b \\theta}} d\\theta$$\n",
    "\n",
    "Rearrange Posterior: $$\\frac{1}{\\Gamma}\\int\\theta^{-a-2}e^{-\\frac{(y+1)}{\\theta}}$$\n",
    "\n",
    "The next steps here would be to get a form of the PDF that equals 1. Then after some algebra I would take the log and then summation and then derivative. Lastly I would find the expectation.\n",
    "\n",
    "Unfortunately I can not figure out the remaining portion."
   ]
  },
  {
   "cell_type": "markdown",
   "metadata": {},
   "source": []
  }
 ],
 "metadata": {
  "kernelspec": {
   "display_name": "bayes_stats",
   "language": "python",
   "name": "python3"
  },
  "language_info": {
   "codemirror_mode": {
    "name": "ipython",
    "version": 3
   },
   "file_extension": ".py",
   "mimetype": "text/x-python",
   "name": "python",
   "nbconvert_exporter": "python",
   "pygments_lexer": "ipython3",
   "version": "3.11.4"
  },
  "orig_nbformat": 4
 },
 "nbformat": 4,
 "nbformat_minor": 2
}
