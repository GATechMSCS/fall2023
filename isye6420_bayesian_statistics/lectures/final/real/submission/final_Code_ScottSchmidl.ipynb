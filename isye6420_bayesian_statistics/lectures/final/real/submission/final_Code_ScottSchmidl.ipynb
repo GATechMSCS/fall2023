{
 "cells": [
  {
   "cell_type": "markdown",
   "metadata": {},
   "source": [
    "### IMPORTS"
   ]
  },
  {
   "cell_type": "code",
   "execution_count": 2,
   "metadata": {},
   "outputs": [],
   "source": [
    "import pymc as pm\n",
    "import numpy as np\n",
    "import pandas as pd\n",
    "import arviz as az\n",
    "import matplotlib.pyplot as plt\n",
    "import scipy.stats as stats"
   ]
  },
  {
   "cell_type": "markdown",
   "metadata": {},
   "source": [
    "### QUESTION 1"
   ]
  },
  {
   "cell_type": "code",
   "execution_count": null,
   "metadata": {},
   "outputs": [],
   "source": [
    "def metropolis_hastings(function, draws):\n",
    "    trace = np.zeros(draws)\n",
    "    \n",
    "    xCurrent = 0.5\n",
    "    probCurrent = func.pdf(xCurrent)\n",
    "    delta = np.random.normal(0, 0.5, draws)\n",
    "    \n",
    "    for i in range(draws):\n",
    "        xNew = xCurrent + delta[i]\n",
    "        probNew = func.pdf(xNew)\n",
    "        acceptance_rate = probNew / probCurrent\n",
    "        \n",
    "        if acceptance_rate >= np.random.random():\n",
    "            trace[i] = xNew\n",
    "            xCurrent = xNew\n",
    "            probCurrent = probNew\n",
    "\n",
    "        else:\n",
    "            trace[i] = xCurrent\n",
    "\n",
    "    return trace\n",
    "\n",
    "func = stats.beta(2, 5) \n",
    "trace = metropolis(func=func) "
   ]
  },
  {
   "cell_type": "markdown",
   "metadata": {},
   "source": [
    "### QUESTION 2"
   ]
  },
  {
   "cell_type": "code",
   "execution_count": 8,
   "metadata": {},
   "outputs": [],
   "source": [
    "problem2 = pd.read_csv('problem2.csv')"
   ]
  },
  {
   "cell_type": "code",
   "execution_count": 9,
   "metadata": {},
   "outputs": [
    {
     "data": {
      "text/html": [
       "<div>\n",
       "<style scoped>\n",
       "    .dataframe tbody tr th:only-of-type {\n",
       "        vertical-align: middle;\n",
       "    }\n",
       "\n",
       "    .dataframe tbody tr th {\n",
       "        vertical-align: top;\n",
       "    }\n",
       "\n",
       "    .dataframe thead th {\n",
       "        text-align: right;\n",
       "    }\n",
       "</style>\n",
       "<table border=\"1\" class=\"dataframe\">\n",
       "  <thead>\n",
       "    <tr style=\"text-align: right;\">\n",
       "      <th></th>\n",
       "      <th>x1</th>\n",
       "      <th>x2</th>\n",
       "      <th>y</th>\n",
       "    </tr>\n",
       "  </thead>\n",
       "  <tbody>\n",
       "    <tr>\n",
       "      <th>0</th>\n",
       "      <td>0.77</td>\n",
       "      <td>0.19</td>\n",
       "      <td>10.84</td>\n",
       "    </tr>\n",
       "    <tr>\n",
       "      <th>1</th>\n",
       "      <td>0.10</td>\n",
       "      <td>0.45</td>\n",
       "      <td>8.75</td>\n",
       "    </tr>\n",
       "    <tr>\n",
       "      <th>2</th>\n",
       "      <td>0.58</td>\n",
       "      <td>0.64</td>\n",
       "      <td>9.93</td>\n",
       "    </tr>\n",
       "    <tr>\n",
       "      <th>3</th>\n",
       "      <td>0.76</td>\n",
       "      <td>0.76</td>\n",
       "      <td>10.90</td>\n",
       "    </tr>\n",
       "    <tr>\n",
       "      <th>4</th>\n",
       "      <td>0.84</td>\n",
       "      <td>0.49</td>\n",
       "      <td>10.45</td>\n",
       "    </tr>\n",
       "  </tbody>\n",
       "</table>\n",
       "</div>"
      ],
      "text/plain": [
       "     x1    x2      y\n",
       "0  0.77  0.19  10.84\n",
       "1  0.10  0.45   8.75\n",
       "2  0.58  0.64   9.93\n",
       "3  0.76  0.76  10.90\n",
       "4  0.84  0.49  10.45"
      ]
     },
     "execution_count": 9,
     "metadata": {},
     "output_type": "execute_result"
    }
   ],
   "source": [
    "problem2.head()"
   ]
  },
  {
   "cell_type": "code",
   "execution_count": null,
   "metadata": {},
   "outputs": [],
   "source": [
    "with pm.Model() as p2:\n",
    "\n",
    "    # DATA\n",
    "    x_i1 = pm.Data(name=\"x_i1\",\n",
    "                        value=problem2['x1'],\n",
    "                        mutable=False)\n",
    "    x_i2 = pm.Data(name=\"x_i2\",\n",
    "                        value=problem2['x2'],\n",
    "                        mutable=False)\n",
    "\n",
    "    y = pm.Data(name=\"y\",\n",
    "                        value=problem2['y'],\n",
    "                        mutable=False)\n",
    "\n",
    "    # NONINFORMATIVE PRIORS\n",
    "    beta0 = pm.Normal(name=\"beta0\",\n",
    "                      mu=0,\n",
    "                      tau=0.001)\n",
    "    beta1 = pm.Normal(name=\"beta1\",\n",
    "                      mu=0,\n",
    "                      tau=0.001)\n",
    "    beta2 = pm.Normal(name=\"beta2\",\n",
    "                      mu=0,\n",
    "                      tau=0.001)\n",
    "    alpha0 = pm.Normal(name=\"alpha0\",\n",
    "                      mu=0,\n",
    "                      tau=0.001)\n",
    "    alpha1 = pm.Normal(name=\"alpha1\",\n",
    "                      mu=0,\n",
    "                      tau=0.001)\n",
    "    alpha2 = pm.Normal(name=\"alpha2\",\n",
    "                      mu=0,\n",
    "                      tau=0.001)\n",
    "\n",
    "    # GETTING EPSILON\n",
    "    sigma_sq = pm.math.exp(alph0 + (alpha1 * x_i1) + (alpha2 * x_i2))\n",
    "    tau = 1 / sigma_sq\n",
    "    epsilon_i = pm.Normal(name='epsilon_i', mu=0, tau=tau)\n",
    "\n",
    "    # GETTING PREDICTED Y\n",
    "    mu = beta0 + (beta1 * x_i1) + (beta2 * x_i2) + epsilon_i\n",
    "    y_i = pm.Normal(name='y_i', mu=var, tau=0.001, observed=y)\n",
    "\n",
    "    trace_p2 = pm.sample(draws=10000, tune=1000, cores=None, chains=4)"
   ]
  },
  {
   "cell_type": "code",
   "execution_count": null,
   "metadata": {},
   "outputs": [],
   "source": [
    "az.summary(trace_p2, hdi_prob=0.95)"
   ]
  },
  {
   "cell_type": "code",
   "execution_count": null,
   "metadata": {},
   "outputs": [],
   "source": [
    "ppc = pm.sample_posterior_predictive(trace, model=p2, predictions=True)"
   ]
  },
  {
   "cell_type": "code",
   "execution_count": null,
   "metadata": {},
   "outputs": [],
   "source": [
    "y_pred2 = trace_p2.posterior_predictive.stack(sample=(\"chain\", \"draw\"))[\"y_i\"].values.T\n",
    "az.r2_score(y, y_pred2)"
   ]
  },
  {
   "cell_type": "markdown",
   "metadata": {},
   "source": [
    "### QUESTION 3"
   ]
  },
  {
   "cell_type": "code",
   "execution_count": 10,
   "metadata": {},
   "outputs": [],
   "source": [
    "problem3 = pd.read_csv('problem3.csv')"
   ]
  },
  {
   "cell_type": "code",
   "execution_count": 11,
   "metadata": {},
   "outputs": [
    {
     "data": {
      "text/html": [
       "<div>\n",
       "<style scoped>\n",
       "    .dataframe tbody tr th:only-of-type {\n",
       "        vertical-align: middle;\n",
       "    }\n",
       "\n",
       "    .dataframe tbody tr th {\n",
       "        vertical-align: top;\n",
       "    }\n",
       "\n",
       "    .dataframe thead th {\n",
       "        text-align: right;\n",
       "    }\n",
       "</style>\n",
       "<table border=\"1\" class=\"dataframe\">\n",
       "  <thead>\n",
       "    <tr style=\"text-align: right;\">\n",
       "      <th></th>\n",
       "      <th>x</th>\n",
       "      <th>y</th>\n",
       "    </tr>\n",
       "  </thead>\n",
       "  <tbody>\n",
       "    <tr>\n",
       "      <th>0</th>\n",
       "      <td>0.988</td>\n",
       "      <td>0</td>\n",
       "    </tr>\n",
       "    <tr>\n",
       "      <th>1</th>\n",
       "      <td>0.222</td>\n",
       "      <td>1</td>\n",
       "    </tr>\n",
       "    <tr>\n",
       "      <th>2</th>\n",
       "      <td>0.285</td>\n",
       "      <td>3</td>\n",
       "    </tr>\n",
       "    <tr>\n",
       "      <th>3</th>\n",
       "      <td>0.326</td>\n",
       "      <td>3</td>\n",
       "    </tr>\n",
       "    <tr>\n",
       "      <th>4</th>\n",
       "      <td>0.140</td>\n",
       "      <td>2</td>\n",
       "    </tr>\n",
       "  </tbody>\n",
       "</table>\n",
       "</div>"
      ],
      "text/plain": [
       "       x  y\n",
       "0  0.988  0\n",
       "1  0.222  1\n",
       "2  0.285  3\n",
       "3  0.326  3\n",
       "4  0.140  2"
      ]
     },
     "execution_count": 11,
     "metadata": {},
     "output_type": "execute_result"
    }
   ],
   "source": [
    "problem3.head()"
   ]
  },
  {
   "cell_type": "code",
   "execution_count": null,
   "metadata": {},
   "outputs": [],
   "source": [
    "with pm.Model() as p3:\n",
    "\n",
    "    x = pm.Data(name=\"x\",\n",
    "                       value=problem3[\"x\"],\n",
    "                       mutable=False)\n",
    "\n",
    "    y = pm.Data(name=\"y\",\n",
    "                   value=problem3[\"y\"],\n",
    "                   mutable=False)\n",
    "\n",
    "    beta0 = pm.Normal(\"beta0\", mu=0, tau=0.0001)\n",
    "    beta1 = pm.Normal('beta1', mu=0, tau=0.0001)\n",
    "    beta2 = pm.Normal('beta2', mu=0, tau=0.0001)\n",
    "\n",
    "    regression = beta0 + pm.math.dot(l=x, r=beta1) + pm.math.dot(l=x**2, r=beta2)\n",
    "    lambda_xi = pm.math.exp(regression)\n",
    "\n",
    "    y_i = pm.Poisson('y_i', mu=lambda_xi, observed=y)\n",
    "\n",
    "    trace_p3 = pm.sample(draws=10000, tune=1000, cores=None, chains=4)"
   ]
  },
  {
   "cell_type": "code",
   "execution_count": null,
   "metadata": {},
   "outputs": [],
   "source": [
    "az.summary(trace_p3, hdi_prob=0.95)"
   ]
  },
  {
   "cell_type": "code",
   "execution_count": null,
   "metadata": {},
   "outputs": [],
   "source": [
    "ppc = pm.sample_posterior_predictive(trace_p3, model=p3, predictions=True)"
   ]
  },
  {
   "cell_type": "code",
   "execution_count": null,
   "metadata": {},
   "outputs": [],
   "source": [
    "y_pred3 = trace_p3.posterior_predictive.stack(sample=(\"chain\", \"draw\"))[\"y_i\"].values.T\n",
    "az.r2_score(y, y_pred3)"
   ]
  }
 ],
 "metadata": {
  "kernelspec": {
   "display_name": "bayes_stats",
   "language": "python",
   "name": "python3"
  },
  "language_info": {
   "codemirror_mode": {
    "name": "ipython",
    "version": 3
   },
   "file_extension": ".py",
   "mimetype": "text/x-python",
   "name": "python",
   "nbconvert_exporter": "python",
   "pygments_lexer": "ipython3",
   "version": "3.11.4"
  },
  "orig_nbformat": 4
 },
 "nbformat": 4,
 "nbformat_minor": 2
}
