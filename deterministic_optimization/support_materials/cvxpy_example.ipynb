{
 "cells": [
  {
   "cell_type": "code",
   "execution_count": 1,
   "metadata": {},
   "outputs": [],
   "source": [
    "import numpy as np\n",
    "import cvxpy as cvx"
   ]
  },
  {
   "cell_type": "markdown",
   "metadata": {},
   "source": [
    "$$ \\min x_1 + 3x_2 + 5x_3 \\\\ s.t. \\\\\n",
    "        x_1 + 3x_3 \\geq 10\\\\\n",
    "        x_2 + x_3 \\geq 4\\\\\n",
    "        x_1 - 2x_2 + 4x_3 \\geq 7 \\\\\n",
    "        x_1, x_2, x_3 \\geq 0    $$ \n",
    "    \n"
   ]
  },
  {
   "cell_type": "code",
   "execution_count": 2,
   "metadata": {},
   "outputs": [
    {
     "name": "stdout",
     "output_type": "stream",
     "text": [
      "\n",
      "The optimal value is 18.67\n",
      "x values: [3.742195802662828e-09, 0.6666666662152786, 3.3333333316839604]\n",
      "rounded x values: [0.0, 0.67, 3.33]\n",
      "The dual value for the first constraint: 0.67\n"
     ]
    }
   ],
   "source": [
    "# This is the most explicit version where all variables are created separaretely, \n",
    "# all constants are hard-coded inside constraints and objective. \n",
    "\n",
    "\n",
    "# Declaring Variables\n",
    "x1 = cvx.Variable()\n",
    "x2 = cvx.Variable()\n",
    "x3 = cvx.Variable()\n",
    "\n",
    "# Defining Objective\n",
    "objective = cvx.Minimize(x1 + 3*x2 + 5*x3)\n",
    "\n",
    "# Defining Constraints\n",
    "\n",
    "constraints =  [x1 + 3*x3 >= 10,\n",
    "                x2 + x3 >= 4,\n",
    "                x1 - 2*x2 + 4*x3 >= 7,\n",
    "                x1 >= 0, x2 >= 0, x3 >=0\n",
    "            ]\n",
    "\n",
    "model = cvx.Problem(objective, constraints)\n",
    "model.solve()\n",
    "\n",
    "# Printing Outputs \n",
    "\n",
    "print(\"\\nThe optimal value is\", round(model.value,2))\n",
    "print(\"x values:\",  [float(x1.value), float(x2.value), float(x3.value)])\n",
    "print(\"rounded x values:\", [round(float(x1.value),2), round(float(x2.value),2), round(float(x3.value),2)] )\n",
    "\n",
    "print(\"The dual value for the first constraint:\", round(constraints[0].dual_value, 2))\n"
   ]
  },
  {
   "cell_type": "code",
   "execution_count": 3,
   "metadata": {},
   "outputs": [
    {
     "name": "stdout",
     "output_type": "stream",
     "text": [
      "\n",
      "The optimal value is 18.67\n",
      "x values: [3.74219580e-09 6.66666666e-01 3.33333333e+00]\n",
      "rounded x values: [0.0, 0.67, 3.33]\n",
      "The dual value for the first constraint: 0.67\n"
     ]
    }
   ],
   "source": [
    "# This is explicit version where A is 1x9 array, and we model each constraint seperately. \n",
    "\n",
    "# Providing Input\n",
    "c = np.array([1,3,5])\n",
    "A = np.array([1,0,3,0,1,1,1,-2,4]) \n",
    "# (3,3) : First value number of rows (constraint) , second number of value variables\n",
    "b = np.array([10,4,7])\n",
    "x_min = np.array([0,0,0])\n",
    "\n",
    "# Declaring Variables\n",
    "x = cvx.Variable(3)\n",
    "\n",
    "# Defining Objective\n",
    "objective = cvx.Minimize(x@c)\n",
    "\n",
    "# Defining Constraints\n",
    "\n",
    "constraints =  [A[0]*x[0] + A[1]*x[1] + A[2]*x[2] >= b[0],\n",
    "                A[3]*x[0] + A[4]*x[1] + A[5]*x[2] >= b[1],\n",
    "                A[6]*x[0] + A[7]*x[1] + A[8]*x[2] >= b[2],\n",
    "                x >= x_min,\n",
    "            ]\n",
    "\n",
    "model = cvx.Problem(objective, constraints)\n",
    "model.solve()\n",
    "\n",
    "# Printing Outputs \n",
    "\n",
    "print(\"\\nThe optimal value is\", round(model.value,2))\n",
    "print(\"x values:\",  x.value)\n",
    "print(\"rounded x values:\", [round(i,2) for i in x.value] )\n",
    "\n",
    "print(\"The dual value for the first constraint:\", round(constraints[0].dual_value, 2))\n"
   ]
  },
  {
   "cell_type": "code",
   "execution_count": 4,
   "metadata": {},
   "outputs": [
    {
     "name": "stdout",
     "output_type": "stream",
     "text": [
      "\n",
      "The optimal value is 18.67\n",
      "x values: [3.74219580e-09 6.66666666e-01 3.33333333e+00]\n",
      "rounded x values: [0.0, 0.67, 3.33]\n",
      "The dual value for the first constraint: 0.67\n"
     ]
    }
   ],
   "source": [
    "# In this version A is 3x3 matrix, but we still code each constraint explicitly. \n",
    "\n",
    "# Providing Input\n",
    "c = np.array([1,3,5])\n",
    "A = np.array([[1,0,3],[0,1,1],[1,-2,4]]) \n",
    "# (3,3) : First value number of rows (constraint) , second number of value variables\n",
    "b = np.array([10,4,7])\n",
    "x_min = np.array([0,0,0])\n",
    "\n",
    "# Declaring Variables\n",
    "x = cvx.Variable(3)\n",
    "\n",
    "# Defining Objective\n",
    "objective = cvx.Minimize(x@c)\n",
    "\n",
    "# Defining Constraints\n",
    "\n",
    "constraints =  [A[0,0]*x[0] + A[0,1]*x[1] + A[0,2]*x[2] >= b[0],\n",
    "                A[1,0]*x[0] + A[1,1]*x[1] + A[1,2]*x[2] >= b[1],\n",
    "                A[2,0]*x[0] + A[2,1]*x[1] + A[2,2]*x[2] >= b[2],\n",
    "                x >= x_min,\n",
    "            ]\n",
    "\n",
    "model = cvx.Problem(objective, constraints)\n",
    "model.solve()\n",
    "\n",
    "print(\"\\nThe optimal value is\", round(model.value,2))\n",
    "print(\"x values:\",  x.value)\n",
    "print(\"rounded x values:\", [round(i,2) for i in x.value] )\n",
    "\n",
    "print(\"The dual value for the first constraint:\", round(constraints[0].dual_value, 2))\n"
   ]
  },
  {
   "cell_type": "code",
   "execution_count": 5,
   "metadata": {},
   "outputs": [
    {
     "name": "stdout",
     "output_type": "stream",
     "text": [
      "\n",
      "The optimal value is 18.67\n",
      "x values: [3.74219580e-09 6.66666666e-01 3.33333333e+00]\n",
      "Rounded x values: [0.0, 0.67, 3.33]\n",
      "The dual values for the Ax>= b set of constraints: [6.66666667e-01 3.00000000e+00 3.20587453e-10]\n",
      "The dual value for the first constraint of Ax>=b: 0.67\n"
     ]
    }
   ],
   "source": [
    "# This is the most compact form, where A is 3x3 matrix and we model the constraints as Ax >= b.\n",
    "\n",
    "# Providing Input\n",
    "c = np.array([1,3,5])\n",
    "A = np.array([[1,0,3],[0,1,1],[1,-2,4]]) \n",
    "# (3,3) : First value number of rows (constraint) , second number of value variables\n",
    "b = np.array([10,4,7])\n",
    "x_min = np.array([0,0,0])\n",
    "\n",
    "# Declaring Variables\n",
    "x = cvx.Variable(3)\n",
    "\n",
    "# Defining Objective\n",
    "objective = cvx.Minimize(x@c)\n",
    "\n",
    "# @ for vector/matrix multiplication\n",
    "# * for scalar multiplication\n",
    "\n",
    "# Defining Constraints\n",
    "\n",
    "constraints =  [A @ x >= b,\n",
    "                x >= x_min,\n",
    "            ]\n",
    "\n",
    "model = cvx.Problem(objective, constraints)\n",
    "model.solve()\n",
    "\n",
    "# Printing Outputs \n",
    "print(\"\\nThe optimal value is\", round(model.value,2))\n",
    "print(\"x values:\", x.value)\n",
    "# Rounded x values: \n",
    "print(\"Rounded x values:\", [round(i,2) for i in x.value] )\n",
    "print(\"The dual values for the Ax>= b set of constraints:\", constraints[0].dual_value)\n",
    "print(\"The dual value for the first constraint of Ax>=b:\", round(constraints[0].dual_value[0], 2))\n",
    "\n"
   ]
  }
 ],
 "metadata": {
  "interpreter": {
   "hash": "183a2f4dd7791c68a7ca2d136cf2edca85560307c03cf4e8bef96380ec82b637"
  },
  "kernelspec": {
   "display_name": "Python 3",
   "language": "python",
   "name": "python3"
  },
  "language_info": {
   "codemirror_mode": {
    "name": "ipython",
    "version": 3
   },
   "file_extension": ".py",
   "mimetype": "text/x-python",
   "name": "python",
   "nbconvert_exporter": "python",
   "pygments_lexer": "ipython3",
   "version": "3.7.4"
  }
 },
 "nbformat": 4,
 "nbformat_minor": 2
}
