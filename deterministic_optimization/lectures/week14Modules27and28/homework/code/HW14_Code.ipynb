{
 "cells": [
  {
   "cell_type": "markdown",
   "metadata": {},
   "source": [
    "$\n",
    "\\textbf{QUESTION 1}\\\\\n",
    "$\n",
    "$$\n",
    "\n",
    "$$"
   ]
  },
  {
   "cell_type": "markdown",
   "metadata": {},
   "source": [
    "$\\textbf{QUESTION 2}$\n",
    "\n",
    "$$\n",
    "x_i \\rightarrow \\text{number of workers who start work on a day, } \\forall \\ i = 1,...,7 \\\\\n",
    "\\text{Assume: } x_1 = \\text{Monday; } x_7 = \\text{Sunday}\\\\\n",
    "x_i = \\sum_{i=1}^{7}\\sum_{j=1}^{40} x_{ij} y_j\\\\\n",
    "c_i \\rightarrow \\text{cost of the day for a worker}\\\\\n",
    "y_j \\in \\{0,1\\} \\text{ is a binary variable indicating whether a worker starts on a day, } \\forall \\ j = 1, ..., 40\\\\~\\\\\n",
    "\n",
    "\\text{Objective Function:}\\\\\n",
    "\\min \\sum_{i= 1}^{7} c_i \\times \\sum_{i=1}^{7}\\sum_{j=1}^{40} x_{ij} y_j \\\\~\\\\\n",
    "\n",
    "\\text{Constraints:}\\\\\n",
    "25 \\le x_{ij} y_j \\le 40 \\\\\n",
    "25 \\le x_3 \\le 28 \\\\\n",
    "x_6 \\lt x_1 \\\\\n",
    "x_6 \\lt x_2 \\\\\n",
    "75 \\le \\sum_{j=1}^{7} \\sum_{k=1}^{7} \\sum_{l=1}^{7} x_j + x_k + x_l \\le 105 \\\\\n",
    "c_1 = 300 \\\\\n",
    "c_2, c_7 = 320 \\\\\n",
    "c_3, c_4, c_5, c_6 = 330\n",
    "$$"
   ]
  },
  {
   "cell_type": "markdown",
   "metadata": {},
   "source": [
    "$\n",
    "\\textbf{QUESTION 3}\n",
    "$"
   ]
  },
  {
   "cell_type": "markdown",
   "metadata": {},
   "source": []
  }
 ],
 "metadata": {
  "kernelspec": {
   "display_name": "bayes_stats",
   "language": "python",
   "name": "python3"
  },
  "language_info": {
   "codemirror_mode": {
    "name": "ipython",
    "version": 3
   },
   "file_extension": ".py",
   "mimetype": "text/x-python",
   "name": "python",
   "nbconvert_exporter": "python",
   "pygments_lexer": "ipython3",
   "version": "3.11.4"
  },
  "orig_nbformat": 4
 },
 "nbformat": 4,
 "nbformat_minor": 2
}
