{
 "cells": [
  {
   "cell_type": "markdown",
   "metadata": {},
   "source": [
    "$\\textbf{QUESTION 1}$"
   ]
  },
  {
   "cell_type": "markdown",
   "metadata": {},
   "source": [
    "$$\n",
    "\\text{PART A}\\\\~\\\\\n",
    "z \\in \\{0, 1 \\} \\Rightarrow \\\\\n",
    "z = 0 \\Rightarrow x_1 \\lt 100, z = 1 \\Rightarrow x_1 \\ge 100 \\\\~\\\\\n",
    " z \\ge \\frac{x_1 - 100 + \\epsilon}{budget - 100 + \\epsilon}, (1 - z) (budget - x_1) + 100z \\ge x_2\n",
    "$$"
   ]
  },
  {
   "cell_type": "markdown",
   "metadata": {},
   "source": [
    "$$\n",
    "\\text{PART B}\\\\\n",
    "\\text{The feasible region is the shaded-region, below.}\n",
    "$$\n",
    "\n",
    "<p align=\"center\">\n",
    "<img src=\"/home/leonardo_leads/Documents/SchoolDocs/ga_tech_masters/omscs_ml/fall2023/deterministic_optimization/lectures/week13Modules25and26/homework/images/q1b_alt.png\" width=\"600\" height=\"600\" />\n",
    "</p>\n",
    "\n",
    "$$\n",
    "\\text{The feasible region is not a convex set.}\\\\~\\\\\n",
    "x_1 + x_2 \\lt 1 \\Rightarrow \\\\~\\\\\n",
    "z \\in \\{0, 1\\} \\\\~\\\\\n",
    "z \\ge 1 - x_1 - x_2 \\Rightarrow \\\\~\\\\\n",
    "z(x_1 - x_2) + (1 - z) \\ge 1\n",
    "$$"
   ]
  },
  {
   "cell_type": "markdown",
   "metadata": {},
   "source": [
    "$\\textbf{QUESTION 2}$\n",
    "\n",
    "$$\n",
    "x_i \\text{ are the investments}\\\\\n",
    "\\text{Objective Function:}\\\\\n",
    "\\max \\{1x_1 + 3x_2 + 2x_3 + 4x_4 + 1x_5 + 5x_6 + 4x_7 \\} \\\\~\\\\\n",
    "\\text{Constraints:}\\\\\n",
    "5x_1 + 7x_2 + 6x_3 + 3x_4 + 9x_5 + 12x_6 + 5x_7 \\le 30 \\\\\n",
    "x_{i} \\in \\{0, 1\\}, \\  \\forall \\ i = 1, 2, 3, 4, 5, 6, 7\n",
    "$$"
   ]
  },
  {
   "cell_type": "markdown",
   "metadata": {},
   "source": [
    "$$\n",
    "\\text{PART A}\\\\\n",
    "\\text{We need to have at least 1 investment.}\\\\\n",
    "\\sum_{i=1}^{7} x_i \\ge 1\n",
    "$$"
   ]
  },
  {
   "cell_type": "markdown",
   "metadata": {},
   "source": [
    "$$\n",
    "\\text{PART B}\\\\\n",
    "\\text{Investment 1 can't be chose if investment 3 is chosen.}\\\\\n",
    "x_1 \\le 1 - x_3\n",
    "$$"
   ]
  },
  {
   "cell_type": "markdown",
   "metadata": {},
   "source": [
    "$$\n",
    "\\text{PART C}\\\\\n",
    "\\text{Investment 4 can be chosen only if investment 2 is also chosen}\\\\\n",
    "x_4 \\le x_2\n",
    "$$"
   ]
  },
  {
   "cell_type": "markdown",
   "metadata": {},
   "source": [
    "$$\n",
    "\\text{PART D}\\\\\n",
    "\\text{Either both investments 1 and 5 are chosen or neither}\\\\\n",
    "x_1 = x_5\n",
    "$$"
   ]
  },
  {
   "cell_type": "markdown",
   "metadata": {},
   "source": [
    "$$\n",
    "\\text{PART E}\\\\\n",
    "\\text{Must choose either at least investments 1, 2, 3 or at least two investments of 2, 4, 5, 6}\\\\\n",
    "z_{i} \\in \\{0, 1\\}, \\forall \\ i = 1, 2 \\\\\n",
    "x_1 + x_2 + x_3 \\ge z_1\\\\\n",
    "x_2 + x_4 + x_5 + x_6 \\ge 2z_2\\\\\n",
    "z_1 + z_2 \\ge 1\n",
    "\n",
    "$$"
   ]
  },
  {
   "cell_type": "markdown",
   "metadata": {},
   "source": [
    "$\\textbf{QUESTION 3}$\n",
    "\n",
    "$$\n",
    "x = \\sum_{k=0}^{4} \\lambda_{k} l_{k} \\\\~\\\\\n",
    "\\sum_{k=0}^{4} \\lambda_k = 1 \\\\\n",
    "\\lambda_{k} \\ge 0, k=0, 1, 2, 3, 4\n",
    "\\\\~\\\\\n",
    "\\sum_{k=0}^{3} y_k = 1 \\\\\n",
    "y_k \\in \\{0, 1\\}, \\ k=0, 1, 2, 3 \\\\~\\\\\n",
    "\\lambda_{0} \\le y_0 \\\\\n",
    "\\lambda_{1} \\le y_0 + y_1 \\\\\n",
    "\\lambda_{2} \\le y_1 + y_2 \\\\\n",
    "\\lambda_{3} \\le y_2 + y_3 \\\\\n",
    "\\lambda_{4} \\le y_3\n",
    "\n",
    "\n",
    "\n",
    "\n",
    "$$"
   ]
  }
 ],
 "metadata": {
  "kernelspec": {
   "display_name": "bayes_stats",
   "language": "python",
   "name": "python3"
  },
  "language_info": {
   "codemirror_mode": {
    "name": "ipython",
    "version": 3
   },
   "file_extension": ".py",
   "mimetype": "text/x-python",
   "name": "python",
   "nbconvert_exporter": "python",
   "pygments_lexer": "ipython3",
   "version": "3.11.4"
  },
  "orig_nbformat": 4
 },
 "nbformat": 4,
 "nbformat_minor": 2
}
