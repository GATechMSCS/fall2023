{
 "cells": [
  {
   "cell_type": "markdown",
   "metadata": {},
   "source": [
    "$\\textbf{QUESTION 1}$\n",
    "$$ \\text{PART A}\n",
    "\\\\\n",
    "(D) = z_d = min \\left\\{2y_1  + 3y_2 -4y_3\\right\\} \\\\ S.T.\\\\ \n",
    "10y_1 + y_3 \\ge 1\\\\\n",
    "-y_1 + 2y_2 + y_3 \\le 1\\\\\n",
    "5y_1 -3y_2 - 2y_3 = 1\\\\\n",
    "y_1 \\ge 0, y_2 \\ free, y_3 \\le 0\n",
    "$$"
   ]
  },
  {
   "cell_type": "markdown",
   "metadata": {},
   "source": [
    "$$ \\text{PART B}\n",
    "\\\\\n",
    "(D) = z_d = max \\left\\{b^{T}y \\right\\} \\\\ S.T.\\\\ \n",
    "y^{T}A \\le c^T\\\\\n",
    "y \\le 0\n",
    "$$"
   ]
  },
  {
   "cell_type": "markdown",
   "metadata": {},
   "source": [
    "$\\textbf{QUESTION 2}$\n",
    "$$\n",
    "\\text{PART A}\n",
    "\\\\\n",
    "(D) = z_d = min \\left\\{500y_1 + 400y_2 \\right\\} \\\\ S.T.\\\\ \n",
    "2y_1 + 3y_3 \\ge 4\\\\\n",
    "1y_1 + 2y_2 \\ge 1\\\\\n",
    "3y_1 + 1y_2 \\ge 3\\\\\n",
    "4y_1 + 6y_2 \\ge 10\\\\\n",
    "y_1 \\ge 0, y_2 \\ge 0\n",
    "\n",
    "\\\\~\\\\\n",
    "\\text{PART B}\\\\\n",
    "$$\n",
    "\n",
    "<p align=\"center\">\n",
    "<img src=\"/home/leonardo_leads/Documents/SchoolDocs/ga_tech_masters/omscs_ml/fall2023/deterministic_optimization/lectures/week9Modules17and18/homework/images/Q2bc.png\" width=\"600\" height=\"600\" />\n",
    "</p>\n",
    "\n",
    "$$\n",
    "\\\\~\\\\\n",
    "\\text{PART C}\\\\\n",
    "\\text{Optimal Solution is labeled on the above graph. Numerical Values: (0.5714, 1.2857)}\\\\\n",
    "\n",
    "\\\\~\\\\\n",
    "\\text{PART D}\\\\\n",
    "500 \\times 0.5714 + 400 \\times 1.2857 \\approx  \\$ 800k \\Rightarrow  \\$ 800k - \\$ 660k =  \\$ 140k \\Rightarrow \\\\\n",
    "\\text{\\$140k more  wealth than Long John.}\n",
    "\n",
    "\\\\~\\\\\n",
    "\\text{PART E}\\\\\n",
    "y_1, y_2 \\ge 0 \\Rightarrow \\text{Both constraints of the primal are active} \\ \\Rightarrow \\\\ a_i^T \\times x = b_i\n",
    "\n",
    "\\\\~\\\\\n",
    "\\text{PART F}\\\\\n",
    "(3y_1 + y_2), (4y_1 + 6y_2) \\text{ are the active dual constraints as they were used to find the dual optimal solution.}\\\\\n",
    "(2y_1 + 3y_2), (y_1 + 2y_2) \\text{ are the nonactive constraints.} \\Rightarrow \\\\ x_1(4 - 2y_1 + 3y_2) = 0, x_2(1 - y_1 + 2y_2) = 0 \\Rightarrow \\\\\n",
    "y^T  \\times A_j \\neq c_j \\Rightarrow \\\\ x_1 = 0 \\\\ x_2 = 0\n",
    "\n",
    "\\\\~\\\\\n",
    "\\text{PART G}\\\\\n",
    "2x_1 + x_2 + 3x_3 + 4x_4 \\le 500, 3x_1 + 2x_2 + x_3 + 6x_4 \\le 400 \\Rightarrow \\\\\n",
    "3x_3 + 4x_4 = 500, x_3 + 6x_4 = 400 \\Rightarrow \\\\\n",
    "x_3 = 100 \\\\\n",
    "x_4 = 50 \\Rightarrow \\\\\n",
    "x = [x_1, x_2, x_3, x_4] = [0, 0, 100, 50]\n",
    "\n",
    "$$"
   ]
  },
  {
   "cell_type": "markdown",
   "metadata": {},
   "source": [
    "$\\textbf{QUESTION 3}$\n",
    "\n",
    "$$\n",
    "\\text{PART A}\\\\\n",
    "(D) = z_d = max \\left\\{c^T y\\right\\} \\\\ S.T. \\\\ \n",
    "Ay^T \\le c^T \\\\\n",
    "y \\ge 0\n",
    "\n",
    "\\\\~\\\\\n",
    "\\text{PART B}\\\\\n",
    "w \\text{ is a feasible solution to the primal. The objective value is } min \\{c^T \\times w \\}\n",
    "\n",
    "\\\\~\\\\\n",
    "\\text{PART C}\\\\\n",
    "w \\text{ is a feasible solution to the dual. The objective value is } max \\{c^T \\times w \\}\n",
    "\n",
    "\\\\~\\\\\n",
    "\\text{PART D}\\\\\n",
    "\\text{If } c^T \\times x^{\\star} = c^T \\times y^{\\star} \\Rightarrow \\\\\n",
    "x^{\\star} = y^{\\star} \\Rightarrow \\\\\n",
    "x^{\\star}, y^{\\star} \\text{ are both optimal solutions to primal and dual.}\n",
    "$$"
   ]
  }
 ],
 "metadata": {
  "kernelspec": {
   "display_name": "bayes_stats",
   "language": "python",
   "name": "python3"
  },
  "language_info": {
   "codemirror_mode": {
    "name": "ipython",
    "version": 3
   },
   "file_extension": ".py",
   "mimetype": "text/x-python",
   "name": "python",
   "nbconvert_exporter": "python",
   "pygments_lexer": "ipython3",
   "version": "3.11.4"
  },
  "orig_nbformat": 4
 },
 "nbformat": 4,
 "nbformat_minor": 2
}
