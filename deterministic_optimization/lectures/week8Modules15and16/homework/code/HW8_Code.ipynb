{
 "cells": [
  {
   "cell_type": "markdown",
   "metadata": {},
   "source": [
    "### IMPORTS"
   ]
  },
  {
   "cell_type": "code",
   "execution_count": 1,
   "metadata": {},
   "outputs": [],
   "source": [
    "import numpy as np\n",
    "import scipy as sp"
   ]
  },
  {
   "cell_type": "markdown",
   "metadata": {},
   "source": [
    "$\\textbf{QUESTION 1}$\n",
    "$$\n",
    "\\textbf{Linear Program Objective Function:}\\\\\n",
    "\\text{min}\\ 3x_1 + 2x_2\n",
    "\\\\~\\\\\n",
    "\\textbf{Constraints:}\\\\\n",
    "2x_1 + x_2 \\ge 4\\\\\n",
    "x_1 + x_2 \\ge 3\\\\\n",
    "x_1 + 2x_2 \\le 10\\\\\n",
    "x_1 \\ge 0\\\\\n",
    "x_2 \\ge 0\n",
    "\\\\~\\\\\n",
    "\\text{The feasible region is the shaded portion in the below graph.}\n",
    "$$\n",
    "<p align=\"center\">\n",
    "<img src=\"/home/leonardo_leads/Documents/SchoolDocs/ga_tech_masters/omscs_ml/fall2023/deterministic_optimization/lectures/week8Modules15and16/homework/images/Q1.png\" width=\"600\" height=\"600\" />\n",
    "</p>"
   ]
  },
  {
   "cell_type": "markdown",
   "metadata": {},
   "source": [
    "$\\textbf{QUESTION 2}$\n",
    "\n",
    "$$\n",
    "\\textbf{Standard Form Linear Program:}\\\\\n",
    "\\textbf{Objective Function:}\\\\\n",
    "\\text{min}\\ 3x_1 + 2x_2\n",
    "\\\\~\\\\\n",
    "\\textbf{Constraints:}\\\\\n",
    "2x_1 + x_2 - x_3 = 4\\\\\n",
    "x_1 + x_2 - x_4 = 3\\\\\n",
    "x_1 + 2x_2 +x_5 = 10\\\\\n",
    "x_1, x_2, x_3, x_4, x_5 \\ge 0\n",
    "\\\\~\\\\\n",
    "x = \n",
    "\\begin{bmatrix}\n",
    "x_1 & x_2 & x_3 & x_4 & x_5\n",
    "\\end{bmatrix}^T\n",
    "\\\\~\\\\\n",
    "c = \n",
    "\\begin{bmatrix}\n",
    "3 & 2 & 0 & 0 & 0\n",
    "\\end{bmatrix}^T\n",
    "\\\\~\\\\\n",
    "A =\n",
    "\\begin{bmatrix}\n",
    "2 & 1 & -1 & 0 & 0\\\\\n",
    "1 & 1 & 0 & -1 & 0\\\\\n",
    "1 & 2 & 0 & 0 & 1\n",
    "\\end{bmatrix}\n",
    "\\\\~\\\\\n",
    "b = \n",
    "\\begin{bmatrix}\n",
    "4 & 3 & 10\n",
    "\\end{bmatrix}\n",
    "$$"
   ]
  },
  {
   "cell_type": "markdown",
   "metadata": {},
   "source": [
    "$\\textbf{QUESTION 3}$\n",
    "$$\n",
    "\\textbf{PART A}\\\\\n",
    "$$\n",
    "$\n",
    "\\text{ITERATION 1}\n",
    "$"
   ]
  },
  {
   "cell_type": "code",
   "execution_count": 2,
   "metadata": {},
   "outputs": [
    {
     "name": "stdout",
     "output_type": "stream",
     "text": [
      "Current Iteration: k=1\n",
      "Basis (B):\n",
      "basis=array([[[ 2, -1,  0],\n",
      "        [ 1,  0, -1],\n",
      "        [ 1,  0,  0]]])\n",
      "b_inv=array([[[ 0.,  0.,  1.],\n",
      "        [-1.,  0.,  2.],\n",
      "        [ 0., -1.,  1.]]])\n",
      "Current basic solution is a BFS:\n",
      "x_b=array([[10., 16.,  7.]])\n",
      "x_n=array([0, 0])\n",
      "Current BFS is not optimal:\n",
      "c_n_bari=array(-4.)\n",
      "c_n_barj=array(-3.)\n",
      "x5 enters.\n",
      "x4 exits.\n",
      "Do not have an unbounded optimal solution:\n",
      "d_b=array([-1., -2., -1.])\n",
      "d_n=array([0, 1])\n",
      "\n",
      "Theta Values:\n",
      "theta=7.0\n",
      "theta_b=array([10.,  8.,  7.])\n",
      "theta_n=array([0., 7.])\n"
     ]
    }
   ],
   "source": [
    "c = np.array([3, 2, 0, 0, 0]).T\n",
    "A = np.matrix([[2, 1, -1, 0, 0],\n",
    "               [1, 1, 0, -1, 0],\n",
    "               [1, 2, 0, 0, 1],])\n",
    "b = np.array([4, 3, 10]).T\n",
    "\n",
    "# basis matrix is the BFS\n",
    "basis = np.array([A[:, [0, 2, 3]]])\n",
    "b_inv = np.linalg.inv(basis)\n",
    "x_b = b_inv @ b\n",
    "x_n = np.array([0, 0]).T\n",
    "c_b = c[[0, 2, 3]]\n",
    "c_n = c[[1, 4]]\n",
    "Aij = [A[:, 1], A[:, 4]]\n",
    "k = 1\n",
    "print(f\"Current Iteration: {k=}\\nBasis (B):\\n{basis=}\\n{b_inv=}\")\n",
    "\n",
    "if np.all(x_b >= 0):\n",
    "    print(f\"Current basic solution is a BFS:\\n{x_b=}\\n{x_n=}\")\n",
    "\n",
    "    # Generalize c_n[] and A1/A2\n",
    "    c_n_bari = np.squeeze(np.asarray(c_n[0] - c_b.T @ b_inv @ Aij[0]))\n",
    "    c_n_barj = np.squeeze(np.asarray(c_n[1] - c_b.T @ b_inv @ Aij[1]))\n",
    "\n",
    "    # Check if BFS is optimal solution\n",
    "    if c_n_bari < 0 or c_n_barj < 0:            \n",
    "        print(f\"Current BFS is not optimal:\\n{c_n_bari=}\\n{c_n_barj=}\\nx5 enters.\\nx4 exits.\")\n",
    "\n",
    "        # Choose A5 to enter the basis\n",
    "        d_b = np.squeeze(np.asarray(-b_inv @ Aij[1]))\n",
    "        d_n = np.array([0, 1])\n",
    "        \n",
    "        # Check if optimal solutions are unbounded\n",
    "        if np.any(d_b < 0):\n",
    "            print(f\"Do not have an unbounded optimal solution:\\n{d_b=}\\n{d_n=}\\n\")\n",
    "\n",
    "            # Minimum-Ratio Test\n",
    "            theta = np.min(x_b / -d_b)\n",
    "            theta_b, theta_n = np.squeeze(np.asarray(x_b / -d_b)), np.array([0, theta])\n",
    "            print(f\"Theta Values:\\n{theta=}\\n{theta_b=}\\n{theta_n=}\")\n",
    "\n",
    "            # # Bland's Rule\n",
    "            # '''\n",
    "            # Choose the entering nonbasic variable x_j s.t. j is the smallest index with c_j^bar < 0\n",
    "            # Choose the exiting basic variable x_i s.t. i is the smallest index that achieves the min ratio\n",
    "            # '''\n",
    "            # c_n_bar = [c_n_bar1, c_n_bar2]\n",
    "            # entering_var = min(c_n_bar)\n",
    "            # entering_var_index = c_n_bar.index(entering_var)\n",
    "            # exiting_var = min(theta_b)\n",
    "            # exiting_var_index = np.where(theta_b == exiting_var)[0][0]\n",
    "            # print(f\"{entering_var_index=}\\n{exiting_var_index=}\")\n",
    "            \n",
    "            # New data: NEEDS TO BE GENERALIZED\n",
    "            # basis[0][:, exiting_var_index] = np.squeeze(np.asarray(A[:, entering_var_index]))\n",
    "            # print(f\"{'&'*10}\\n{basis=}\\n{'&'*10}\")\n",
    "            # b_inv = np.linalg.inv(basis)\n",
    "            # c_b[exiting_var_index] = c[entering_var_index]\n",
    "            # c_n[entering_var_index] = c[exiting_var_index + 2]\n",
    "            # Aij[entering_var_index] = A[:, exiting_var_index + 2]\n",
    "            # x_b = b_inv @ b\n",
    "            # print(f\"{x_b=}\")\n",
    "\n",
    "        else:\n",
    "            print(\"Do have unbounded optimal solution.\")\n",
    "            # break\n",
    "        \n",
    "    else: print(f\"Current BFS is optimal:\\n{c_n_bari=}\\n{c_n_barj=}\")\n",
    "        # break\n",
    "\n",
    "else:\n",
    "    print(\"Current basic solution is not a BFS\")\n",
    "    # break\n",
    "\n",
    "k += 1\n"
   ]
  },
  {
   "cell_type": "markdown",
   "metadata": {},
   "source": [
    "$\n",
    "\\text{ITERATION 2}\n",
    "$"
   ]
  },
  {
   "cell_type": "code",
   "execution_count": 3,
   "metadata": {},
   "outputs": [
    {
     "name": "stdout",
     "output_type": "stream",
     "text": [
      "Current Iteration: k=2\n",
      "Basis (B):\n",
      "basis=array([[[ 2, -1,  0],\n",
      "        [ 1,  0,  0],\n",
      "        [ 1,  0,  1]]])\n",
      "b_inv=array([[[ 0.,  1.,  0.],\n",
      "        [-1.,  2.,  0.],\n",
      "        [ 0., -1.,  1.]]])\n",
      "Current basic solution is a BFS:\n",
      "x_b=array([[3., 2., 7.]])\n",
      "x_n=array([0, 0])\n",
      "Current BFS is not optimal:\n",
      "c_n_bari=array(-1.)\n",
      "c_n_barj=array(3.)\n",
      "x2 enters.\n",
      "x3 exits.\n",
      "Do not have an unbounded optimal solution:\n",
      "d_b=array([-1., -1., -1.])\n",
      "d_n=array([1, 0])\n",
      "\n",
      "Theta Values:\n",
      "theta=2.0\n",
      "theta_b=array([3., 2., 7.])\n",
      "theta_n=array([0., 2.])\n"
     ]
    }
   ],
   "source": [
    "# basis matrix is the BFS\n",
    "basis = np.array([A[:, [0, 2, 4]]])\n",
    "b_inv = np.linalg.inv(basis)\n",
    "x_b = b_inv @ b\n",
    "c_b = c[[0, 2, 4]]\n",
    "c_n = c[[1, 3]]\n",
    "Aij = [A[:, 1], A[:, 3]]\n",
    "print(f\"Current Iteration: {k=}\\nBasis (B):\\n{basis=}\\n{b_inv=}\")\n",
    "\n",
    "if np.all(x_b >= 0):\n",
    "    print(f\"Current basic solution is a BFS:\\n{x_b=}\\n{x_n=}\")\n",
    "\n",
    "    # Generalize c_n[] and A1/A2\n",
    "    c_n_bari = np.squeeze(np.asarray(c_n[0] - c_b.T @ b_inv @ Aij[0]))\n",
    "    c_n_barj = np.squeeze(np.asarray(c_n[1] - c_b.T @ b_inv @ Aij[1]))\n",
    "\n",
    "    # Check if BFS is optimal solution\n",
    "    if c_n_bari < 0 or c_n_barj < 0:            \n",
    "        print(f\"Current BFS is not optimal:\\n{c_n_bari=}\\n{c_n_barj=}\\nx2 enters.\\nx3 exits.\")\n",
    "\n",
    "        # Choose A5 to enter the basis\n",
    "        d_b = np.squeeze(np.asarray(-b_inv @ Aij[0]))\n",
    "        d_n = np.array([1, 0])\n",
    "        \n",
    "        # Check if optimal solutions are unbounded\n",
    "        if np.any(d_b < 0):\n",
    "            print(f\"Do not have an unbounded optimal solution:\\n{d_b=}\\n{d_n=}\\n\")\n",
    "\n",
    "            # Minimum-Ratio Test\n",
    "            theta = np.min(x_b / -d_b)\n",
    "            theta_b, theta_n = np.squeeze(np.asarray(x_b / -d_b)), np.array([0, theta])\n",
    "            print(f\"Theta Values:\\n{theta=}\\n{theta_b=}\\n{theta_n=}\")\n",
    "\n",
    "        else: print(\"Do have unbounded optimal solution.\")\n",
    "        \n",
    "    else: print(f\"Current BFS is optimal:\\n{c_n_bari=}\\n{c_n_barj=}\")\n",
    "\n",
    "else: print(\"Current basic solution is not a BFS\")\n",
    "\n",
    "k += 1"
   ]
  },
  {
   "cell_type": "markdown",
   "metadata": {},
   "source": [
    "$\n",
    "\\text{ITERATION 3}\n",
    "$"
   ]
  },
  {
   "cell_type": "code",
   "execution_count": 4,
   "metadata": {},
   "outputs": [
    {
     "name": "stdout",
     "output_type": "stream",
     "text": [
      "Current Iteration: k=3\n",
      "Basis (B):\n",
      "basis=array([[[2, 1, 0],\n",
      "        [1, 1, 0],\n",
      "        [1, 2, 1]]])\n",
      "b_inv=array([[[ 1., -1.,  0.],\n",
      "        [-1.,  2.,  0.],\n",
      "        [ 1., -3.,  1.]]])\n",
      "Current basic solution is a BFS:\n",
      "x_b=array([[1., 2., 5.]])\n",
      "x_n=array([0, 0])\n",
      "Current BFS is optimal:\n",
      "x_b=array([[1., 2., 5.]])\n",
      "x_n=array([0, 0])\n",
      "c_n_bari=array(1.)\n",
      "c_n_barj=array(1.)\n",
      "Not have an unbounded optimal solution.\n"
     ]
    }
   ],
   "source": [
    "# basis matrix is the BFS\n",
    "basis = np.array([A[:, [0, 1, 4]]])\n",
    "b_inv = np.linalg.inv(basis)\n",
    "x_b = b_inv @ b\n",
    "c_b = c[[0, 1, 4]]\n",
    "c_n = c[[2, 3]]\n",
    "Aij = [A[:, 2], A[:, 3]]\n",
    "print(f\"Current Iteration: {k=}\\nBasis (B):\\n{basis=}\\n{b_inv=}\")\n",
    "\n",
    "if np.all(x_b >= 0):\n",
    "    print(f\"Current basic solution is a BFS:\\n{x_b=}\\n{x_n=}\")\n",
    "\n",
    "    # Generalize c_n[] and A1/A2\n",
    "    c_n_bari = np.squeeze(np.asarray(c_n[0] - c_b.T @ b_inv @ Aij[0]))\n",
    "    c_n_barj = np.squeeze(np.asarray(c_n[1] - c_b.T @ b_inv @ Aij[1]))\n",
    "\n",
    "    # Check if BFS is optimal solution\n",
    "    if c_n_bari < 0 or c_n_barj < 0:            \n",
    "        print(f\"Current BFS is not optimal:\\n{c_n_bari=}\\n{c_n_barj=}\\n\")\n",
    "\n",
    "        # Choose A5 to enter the basis\n",
    "        d_b = np.squeeze(np.asarray(-b_inv @ Aij[0]))\n",
    "        d_n = np.array([1, 0])\n",
    "        \n",
    "        # Check if optimal solutions are unbounded\n",
    "        if np.any(d_b < 0):\n",
    "            print(f\"Do not have an unbounded optimal solution:\\n{d_b=}\\n{d_n=}\\n\")\n",
    "\n",
    "            # Minimum-Ratio Test\n",
    "            theta = np.min(x_b / -d_b)\n",
    "            theta_b, theta_n = np.squeeze(np.asarray(x_b / -d_b)), np.array([0, theta])\n",
    "            print(f\"Theta Values:\\n{theta=}\\n{theta_b=}\\n{theta_n=}\")\n",
    "\n",
    "        else: print(\"Do have unbounded optimal solution.\")\n",
    "        \n",
    "    else: print(f\"Current BFS is optimal:\\n{x_b=}\\n{x_n=}\\n{c_n_bari=}\\n{c_n_barj=}\\nNot have an unbounded optimal solution.\")\n",
    "\n",
    "else: print(\"Current basic solution is not a BFS\")\n",
    "\n",
    "k += 1"
   ]
  },
  {
   "cell_type": "markdown",
   "metadata": {},
   "source": [
    "$\n",
    "\\textbf{Appendix}\n",
    "$\n",
    "$$\n",
    "\\textbf{Check With Scipy.Optimize.Linprog}\\\\\n",
    "\\text{I get the same results through SciPy that I get with manual Simplex}\n",
    "$$"
   ]
  },
  {
   "cell_type": "code",
   "execution_count": 5,
   "metadata": {},
   "outputs": [
    {
     "name": "stdout",
     "output_type": "stream",
     "text": [
      " message: Optimization terminated successfully.\n",
      " success: True\n",
      "  status: 0\n",
      "     fun: 7.0\n",
      "       x: [ 1.000e+00  2.000e+00  0.000e+00  0.000e+00  5.000e+00]\n",
      "     nit: 6\n"
     ]
    },
    {
     "name": "stderr",
     "output_type": "stream",
     "text": [
      "/tmp/ipykernel_785669/116169075.py:1: DeprecationWarning: `method='simplex'` is deprecated and will be removed in SciPy 1.11.0. Please use one of the HiGHS solvers (e.g. `method='highs'`) in new code.\n",
      "  print(sp.optimize.linprog(A_eq=A, b_eq=b, c=c, method='simplex', options={'bland': True}))\n"
     ]
    }
   ],
   "source": [
    "print(sp.optimize.linprog(A_eq=A, b_eq=b, c=c, method='simplex', options={'bland': True}))"
   ]
  }
 ],
 "metadata": {
  "kernelspec": {
   "display_name": "bayes_stats",
   "language": "python",
   "name": "python3"
  },
  "language_info": {
   "codemirror_mode": {
    "name": "ipython",
    "version": 3
   },
   "file_extension": ".py",
   "mimetype": "text/x-python",
   "name": "python",
   "nbconvert_exporter": "python",
   "pygments_lexer": "ipython3",
   "version": "3.11.4"
  },
  "orig_nbformat": 4
 },
 "nbformat": 4,
 "nbformat_minor": 2
}
