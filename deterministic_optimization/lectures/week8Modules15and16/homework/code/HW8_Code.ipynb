{
 "cells": [
  {
   "cell_type": "markdown",
   "metadata": {},
   "source": [
    "### IMPORTS"
   ]
  },
  {
   "cell_type": "code",
   "execution_count": 1,
   "metadata": {},
   "outputs": [],
   "source": []
  },
  {
   "cell_type": "markdown",
   "metadata": {},
   "source": [
    "$\\textbf{QUESTION 1}$\n",
    "$$\n",
    "\\textbf{Linear Program Objective Function:}\\\\\n",
    "\\text{min}\\ 3x_1 + 2x_2\n",
    "\\\\~\\\\\n",
    "\\textbf{Constraints:}\\\\\n",
    "2x_1 + x_2 \\ge 4\\\\\n",
    "x_1 + x_2 \\ge 3\\\\\n",
    "x_1 + 2x_2 \\le 10\\\\\n",
    "x_1 \\ge 0\\\\\n",
    "x_2 \\ge 0\n",
    "\\\\~\\\\\n",
    "\\text{The feasible region is the shaded portion in the below graph.}\n",
    "$$\n",
    "<p align=\"center\">\n",
    "<img src=\"/home/leonardo_leads/Documents/SchoolDocs/ga_tech_masters/omscs_ml/fall2023/deterministic_optimization/lectures/week8Modules15and16/homework/images/Q1.png\" width=\"600\" height=\"600\" />\n",
    "</p>"
   ]
  },
  {
   "cell_type": "markdown",
   "metadata": {},
   "source": [
    "$\\textbf{QUESTION 2}$\n",
    "\n",
    "$$\n",
    "\\textbf{Standard Form Linear Program:}\\\\\n",
    "\\textbf{Objective Function:}\\\\\n",
    "\\text{min}\\ 3x_1 + 2x_2\n",
    "\\\\~\\\\\n",
    "\\textbf{Constraints:}\\\\\n",
    "2x_1 + x_2 - x_3 = 4\\\\\n",
    "x_1 + x_2 - x_4 = 3\\\\\n",
    "x_1 + 2x_2 +x_5 = 10\\\\\n",
    "x_1, x_2, x_3, x_4, x_5 \\ge 0\n",
    "\\\\~\\\\\n",
    "x = \n",
    "\\begin{bmatrix}\n",
    "x_1 & x_2 & x_3 & x_4 & x_5\n",
    "\\end{bmatrix}^T\n",
    "\\\\~\\\\\n",
    "c = \n",
    "\\begin{bmatrix}\n",
    "3 & 2 & 0 & 0 & 0\n",
    "\\end{bmatrix}^T\n",
    "\\\\~\\\\\n",
    "A =\n",
    "\\begin{bmatrix}\n",
    "2 & 1 & -1 & 0 & 0\\\\\n",
    "1 & 1 & 0 & -1 & 0\\\\\n",
    "1 & 2 & 0 & 0 & 1\n",
    "\\end{bmatrix}\n",
    "\\\\~\\\\\n",
    "b = \n",
    "\\begin{bmatrix}\n",
    "4 & 3 & 10\n",
    "\\end{bmatrix}\n",
    "$$"
   ]
  },
  {
   "cell_type": "markdown",
   "metadata": {},
   "source": [
    "$\\textbf{QUESTION 3}$\n",
    "$$\n",
    "\\textbf{PART A}\\\\\n",
    "$$"
   ]
  }
 ],
 "metadata": {
  "kernelspec": {
   "display_name": "bayes_stats",
   "language": "python",
   "name": "python3"
  },
  "language_info": {
   "codemirror_mode": {
    "name": "ipython",
    "version": 3
   },
   "file_extension": ".py",
   "mimetype": "text/x-python",
   "name": "python",
   "nbconvert_exporter": "python",
   "pygments_lexer": "ipython3",
   "version": "3.11.4"
  },
  "orig_nbformat": 4
 },
 "nbformat": 4,
 "nbformat_minor": 2
}
