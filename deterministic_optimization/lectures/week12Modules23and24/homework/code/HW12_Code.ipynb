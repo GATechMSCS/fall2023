{
 "cells": [
  {
   "cell_type": "markdown",
   "metadata": {},
   "source": [
    "$\\text{IMPORTS}$"
   ]
  },
  {
   "cell_type": "code",
   "execution_count": 4,
   "metadata": {},
   "outputs": [],
   "source": [
    "import cvxpy as cp\n",
    "import numpy as np\n",
    "import matplotlib.pyplot as plt\n",
    "import scipy.optimize as spo"
   ]
  },
  {
   "cell_type": "markdown",
   "metadata": {},
   "source": [
    "$\\textbf{QUESTION 1}$"
   ]
  },
  {
   "cell_type": "markdown",
   "metadata": {},
   "source": [
    "$$\n",
    "\\text{PART A}\\\\~\\\\\n",
    "x = [1, 2, 3], y = [3, 2, 1] \\Rightarrow \\\\\n",
    "x - y = -2x + 0y -2z\n",
    "$$\n",
    "\n",
    "<p align=\"center\">\n",
    "<img src=\"/home/leonardo_leads/Documents/SchoolDocs/ga_tech_masters/omscs_ml/fall2023/deterministic_optimization/lectures/week12Modules23and24/homework/images/1a.png\" width=\"600\" height=\"600\" />\n",
    "</p>\n",
    "\n",
    "$$\n",
    "\\text{No, it's not true that } x \\succ_\\mathbb{R^{3}_{+}} y, \\text{ because the line is outside the orthant}\n",
    "$$"
   ]
  },
  {
   "cell_type": "markdown",
   "metadata": {},
   "source": [
    "$$\n",
    "\\text{PART B}\\\\~\\\\\n",
    "x = [1, 2, 3], y = [3, 2, 1] \\Rightarrow \\\\\n",
    "x - y = -2x + 0y -2z\n",
    "$$\n",
    "\n",
    "<p align=\"center\">\n",
    "<img src=\"/home/leonardo_leads/Documents/SchoolDocs/ga_tech_masters/omscs_ml/fall2023/deterministic_optimization/lectures/week12Modules23and24/homework/images/1b.png\" width=\"600\" height=\"600\" />\n",
    "</p>\n",
    "\n",
    "$$\n",
    "\\text{Yes, it's true that } x \\succ_\\mathbb{L^{3}} y, \\text{ because the line is inside the cone}\n",
    "$$"
   ]
  },
  {
   "cell_type": "markdown",
   "metadata": {},
   "source": [
    "$$\n",
    "\\text{PART C}\\\\\n",
    "$$"
   ]
  },
  {
   "cell_type": "code",
   "execution_count": 22,
   "metadata": {},
   "outputs": [
    {
     "name": "stdout",
     "output_type": "stream",
     "text": [
      "Eigenvalues of B - A:\n",
      "[-2.58300524 14.         18.58300524]\n",
      "Eigenvalues of A - C:\n",
      "[-1.75877048  5.06417777  2.69459271]\n"
     ]
    }
   ],
   "source": [
    "A = [[-6, 7, 8], [7, -8, 9], [8, 9, -10]]\n",
    "B = [[0, 1, 2], [1, 2, 3], [2, 3, 4]]\n",
    "C = [[-10, 9, 8], [9, -8, 7], [8, 7, -12]]\n",
    "\n",
    "A = np.array(A)\n",
    "B = np.array(B)\n",
    "C = np.array(C)\n",
    "\n",
    "eigBA = np.linalg.eig(B - A).eigenvalues\n",
    "eigAC = np.linalg.eig(A - C).eigenvalues\n",
    "\n",
    "print(f\"Eigenvalues of B - A:\\n{eigBA}\")\n",
    "print(f\"Eigenvalues of A - C:\\n{eigAC}\")"
   ]
  },
  {
   "cell_type": "markdown",
   "metadata": {},
   "source": [
    "$$\n",
    "\\text{No, it's false that } A \\prec_\\mathbb{S^{3}_{+}} B, \\text{ because of the negative eigenvalue, } \\approx -2.58 \\Rightarrow\\\\ \n",
    "\\text{This means we don't have a PSD matrix.}\\\\~\\\\\n",
    "\n",
    "\\text{No, it's false that } A \\succ_\\mathbb{S^{3}_{+}} C, \\text{ because of the negative eigenvalue, } \\approx -1.75 \\Rightarrow \\\\\n",
    "\\text{This means we don't have a PSD matrix.}\n",
    "$$\n",
    "\n",
    "$\\textbf{QUESTION 2}$"
   ]
  },
  {
   "cell_type": "code",
   "execution_count": 26,
   "metadata": {},
   "outputs": [],
   "source": [
    "uni = np.random.uniform(0, 10, (20, 2))\n",
    "fire_station = cp.Variable(2)\n",
    "euclid_dist = cp.Variable()\n",
    "\n",
    "min_dis = cp.Minimize(euclid_dist)\n",
    "\n",
    "constraints = [cp.norm(uni[i] - fire_station) <= euclid_dist for i in range(10)]\n",
    "\n",
    "fire2village = cp.Problem(min_dis, constraints)\n",
    "fire2village.solve()\n",
    "\n",
    "station_loc1 = fire_station.value[0]\n",
    "station_loc2 = fire_station.value[1]\n",
    "\n",
    "min_long_dist = fire2village.value"
   ]
  },
  {
   "cell_type": "code",
   "execution_count": 30,
   "metadata": {},
   "outputs": [
    {
     "name": "stdout",
     "output_type": "stream",
     "text": [
      "Fire Station Optimal Location:\n",
      "station_loc1=4.368366578875536, station_loc2=5.2083293463025155\n",
      "\n",
      "Minimum Longest Distance, Fire Station to Village:\n",
      "4.928239934911055\n"
     ]
    }
   ],
   "source": [
    "print(f\"Fire Station Optimal Location:\\n{station_loc1=}, {station_loc2=}\")\n",
    "print(f\"\\nMinimum Longest Distance, Fire Station to Village:\\n{min_long_dist}\")"
   ]
  },
  {
   "cell_type": "code",
   "execution_count": null,
   "metadata": {},
   "outputs": [],
   "source": []
  }
 ],
 "metadata": {
  "kernelspec": {
   "display_name": "bayes_stats",
   "language": "python",
   "name": "python3"
  },
  "language_info": {
   "codemirror_mode": {
    "name": "ipython",
    "version": 3
   },
   "file_extension": ".py",
   "mimetype": "text/x-python",
   "name": "python",
   "nbconvert_exporter": "python",
   "pygments_lexer": "ipython3",
   "version": "3.11.4"
  },
  "orig_nbformat": 4
 },
 "nbformat": 4,
 "nbformat_minor": 2
}
