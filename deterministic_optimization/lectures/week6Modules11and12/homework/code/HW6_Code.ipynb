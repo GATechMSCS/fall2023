{
 "cells": [
  {
   "cell_type": "markdown",
   "metadata": {},
   "source": [
    "### IMPORTS"
   ]
  },
  {
   "cell_type": "code",
   "execution_count": 2,
   "metadata": {},
   "outputs": [],
   "source": [
    "import numpy as np\n",
    "import cvxpy as cp"
   ]
  },
  {
   "cell_type": "markdown",
   "metadata": {},
   "source": [
    "### QUESTION 1\n",
    "##### aDP and aMM: count of part A made by drill press and milling machine\n",
    "##### bDP and bMM: count of part B made by drill press and milling machine\n",
    "##### tDP: time for drill press to make parts\n",
    "##### tMM: time for milling machine to make parts\n",
    "#### Linear Program Forumlation:\n",
    "#### Objective Function:\n",
    "$\n",
    "z\\\\\n",
    "s.t.\\\\\n",
    "a = aDP + aMM\\\\\n",
    "b = bDP + bMM\\\\\n",
    "tDP = (aDP * 3) + (bDP * 5)\\\\\n",
    "tMM = (aMM * 4) + (bMM * 3)\\\\\n",
    "z >= tDP - tMM\\\\\n",
    "z >= -tDP + tMM\\\\\n",
    "30 <= a >= 100\\\\\n",
    "1 <= b <= 100\\\\\n",
    "50 <= a + b <= 200\\\\\n",
    "$"
   ]
  },
  {
   "cell_type": "code",
   "execution_count": 43,
   "metadata": {},
   "outputs": [
    {
     "name": "stdout",
     "output_type": "stream",
     "text": [
      "------------QUESTION 1-----------\n",
      "\n",
      "The optimal value is 4.043292384045866e-10\n",
      "var3939: v.value=array([30.87777963])\n",
      "var3940: v.value=array([18.07816892])\n",
      "var3941: v.value=array([10.12879864])\n",
      "var3942: v.value=array([23.65488548])\n",
      "var4047: v.value=array([57.94946703])\n",
      "var4048: v.value=array([28.97473351])\n",
      "var4047 @ 3.0 + var4048 @ 5.0: v.value=array([318.72206865])\n",
      "var4047 @ 4.0 + var4048 @ 3.0: v.value=array([318.72206865])\n"
     ]
    }
   ],
   "source": [
    "print(\"------------QUESTION 1-----------\")\n",
    "\n",
    "# aDP = cp.Variable(1)\n",
    "# aMM = cp.Variable(1)\n",
    "# bDP = cp.Variable(1)\n",
    "# bMM = cp.Variable(1)\n",
    "a = cp.Variable(1)\n",
    "b = cp.Variable(1)\n",
    "# a = aDP + aMM\n",
    "# b = bDP + bMM\n",
    "# tDP = (aDP * 3) + (bDP * 5)\n",
    "# tMM = (aMM * 4) + (bMM * 3)\n",
    "tDP = (a * 3) + (b * 5)\n",
    "tMM = (a * 4) + (b * 3)\n",
    "z = cp.Variable(1)\n",
    "\n",
    "obj = cp.Minimize(z)\n",
    "constraints = [a >= 30,\n",
    "               a <= 100,\n",
    "               b >= 0,\n",
    "               b <= 100,\n",
    "               a + b >= 50,\n",
    "               #a + b <= 200,\n",
    "               z >= tDP - tMM,\n",
    "               z >= -tDP + tMM,]\n",
    "\n",
    "time = cp.Problem(obj, constraints)\n",
    "time.solve()\n",
    "print(\"\\nThe optimal value is\", time.value)\n",
    "\n",
    "solutions = [aDP, aMM, bDP, bMM, a, b, tDP, tMM]\n",
    "for i, v in enumerate(solutions):\n",
    "    print(f\"{v}: {v.value=}\")"
   ]
  },
  {
   "cell_type": "markdown",
   "metadata": {},
   "source": [
    "### QUESTION 2"
   ]
  },
  {
   "cell_type": "code",
   "execution_count": 1,
   "metadata": {},
   "outputs": [
    {
     "name": "stdout",
     "output_type": "stream",
     "text": [
      "\n",
      "------------QUESTION 2-----------\n"
     ]
    }
   ],
   "source": [
    "print(\"\\n------------QUESTION 2-----------\")\n"
   ]
  },
  {
   "cell_type": "code",
   "execution_count": 62,
   "metadata": {},
   "outputs": [
    {
     "name": "stdout",
     "output_type": "stream",
     "text": [
      "\n",
      "The optimal value (minimum cost): $3200.0000086267514\n",
      "Sold suitcases by Supplier 1: 0\n",
      "Sold suitcases by Supplier 2: 500\n"
     ]
    }
   ],
   "source": [
    "ns1 = cp.Variable(1)\n",
    "ms2 = cp.Variable(1)\n",
    "z = cp.Variable(1)\n",
    "\n",
    "s1 = 10 * ns1\n",
    "s2 = 1200 + (5 * (ms2 - 100))\n",
    "\n",
    "obj_sc = cp.Minimize(z)\n",
    "constraints_sc = [z >= s1 + s2,\n",
    "                  ns1 >= 0,\n",
    "                  ns1 <= 500,\n",
    "                  ms2 >= 0,\n",
    "                  ms2 <= 500,\n",
    "                  ns1 + ms2 == 500]\n",
    "\n",
    "suitcase = cp.Problem(obj_sc, constraints_sc)\n",
    "suitcase.solve()\n",
    "print(f\"\\nThe optimal value (minimum cost): ${suitcase.value}\")\n",
    "\n",
    "solutions_sc = [ns1, ms2]\n",
    "for i, v in enumerate(solutions_sc):\n",
    "    print(f\"Sold suitcases by Supplier {i+1}: {round(v.value[0])}\")"
   ]
  },
  {
   "cell_type": "code",
   "execution_count": null,
   "metadata": {},
   "outputs": [],
   "source": []
  }
 ],
 "metadata": {
  "kernelspec": {
   "display_name": "bayes_stats",
   "language": "python",
   "name": "python3"
  },
  "language_info": {
   "codemirror_mode": {
    "name": "ipython",
    "version": 3
   },
   "file_extension": ".py",
   "mimetype": "text/x-python",
   "name": "python",
   "nbconvert_exporter": "python",
   "pygments_lexer": "ipython3",
   "version": "3.11.4"
  },
  "orig_nbformat": 4
 },
 "nbformat": 4,
 "nbformat_minor": 2
}
