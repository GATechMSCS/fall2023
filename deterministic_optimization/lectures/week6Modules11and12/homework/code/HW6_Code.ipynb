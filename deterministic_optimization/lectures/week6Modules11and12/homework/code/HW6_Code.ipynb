{
 "cells": [
  {
   "cell_type": "markdown",
   "metadata": {},
   "source": [
    "### IMPORTS"
   ]
  },
  {
   "cell_type": "code",
   "execution_count": 2,
   "metadata": {},
   "outputs": [],
   "source": [
    "import numpy as np\n",
    "import cvxpy as cp"
   ]
  },
  {
   "cell_type": "markdown",
   "metadata": {},
   "source": [
    "### QUESTION 1\n",
    "##### aDP and aMM: count of part A made by drill press and milling machine\n",
    "##### bDP and bMM: count of part B made by drill press and milling machine\n",
    "##### tDP: time for drill press to make parts\n",
    "##### tMM: time for milling machine to make parts\n",
    "#### Linear Program Forumlation:\n",
    "#### Objective Function:\n",
    "$\n",
    "z\\\\\n",
    "s.t.\\\\\n",
    "a = aDP + aMM\\\\\n",
    "b = bDP + bMM\\\\\n",
    "tDP = (aDP * 3) + (bDP * 5)\\\\\n",
    "tMM = (aMM * 4) + (bMM * 3)\\\\\n",
    "z >= tDP - tMM\\\\\n",
    "z >= -tDP + tMM\\\\\n",
    "30 <= a >= 100\\\\\n",
    "1 <= b <= 100\\\\\n",
    "50 <= a + b <= 200\\\\\n",
    "$"
   ]
  },
  {
   "cell_type": "code",
   "execution_count": 20,
   "metadata": {},
   "outputs": [
    {
     "name": "stdout",
     "output_type": "stream",
     "text": [
      "------------QUESTION 1-----------\n",
      "\n",
      "The optimal value (minimum time): 4.043292384045866e-10\n",
      "Amount of part A: 58\n",
      "Amount of part B: 29\n",
      "The time for Drill Press: 319 minutes\n",
      "The time for Milling Machine: 319 minutes\n"
     ]
    }
   ],
   "source": [
    "print(\"------------QUESTION 1-----------\")\n",
    "a = cp.Variable(1)\n",
    "b = cp.Variable(1)\n",
    "tDP = (a * 3) + (b * 5)\n",
    "tMM = (a * 4) + (b * 3)\n",
    "z = cp.Variable(1)\n",
    "\n",
    "obj = cp.Minimize(z)\n",
    "constraints = [a >= 30,\n",
    "               a <= 100,\n",
    "               b >= 0,\n",
    "               b <= 100,\n",
    "               a + b >= 50,\n",
    "               z >= tDP - tMM,\n",
    "               z >= -tDP + tMM,]\n",
    "\n",
    "time = cp.Problem(obj, constraints)\n",
    "time.solve()\n",
    "print(f\"\\nThe optimal value (minimum time): {time.value}\")\n",
    "\n",
    "for k, v in {'A': a, 'B': b}.items():\n",
    "    print(f\"Amount of part {k}: {round(v.value[0])}\")\n",
    "\n",
    "for k, v in {'Drill Press': tDP, 'Milling Machine': tMM}.items():\n",
    "    print(f\"The time for {k}: {round(v.value[0])} minutes\")"
   ]
  },
  {
   "cell_type": "markdown",
   "metadata": {},
   "source": [
    "### QUESTION 2"
   ]
  },
  {
   "cell_type": "code",
   "execution_count": 21,
   "metadata": {},
   "outputs": [
    {
     "name": "stdout",
     "output_type": "stream",
     "text": [
      "\n",
      "------------QUESTION 2-----------\n",
      "\n",
      "The optimal value (minimum cost): $3200.0000086267514\n",
      "Sold suitcases by Supplier 1: 0\n",
      "Sold suitcases by Supplier 2: 500\n"
     ]
    }
   ],
   "source": [
    "print(\"\\n------------QUESTION 2-----------\")\n",
    "ns1 = cp.Variable(1)\n",
    "ms2 = cp.Variable(1)\n",
    "z = cp.Variable(1)\n",
    "\n",
    "s1 = 10 * ns1\n",
    "s2 = 1200 + (5 * (ms2 - 100))\n",
    "\n",
    "obj_sc = cp.Minimize(z)\n",
    "constraints_sc = [z >= s1 + s2,\n",
    "                  ns1 >= 0,\n",
    "                  ns1 <= 500,\n",
    "                  ms2 >= 0,\n",
    "                  ms2 <= 500,\n",
    "                  ns1 + ms2 == 500]\n",
    "\n",
    "suitcase = cp.Problem(obj_sc, constraints_sc)\n",
    "suitcase.solve()\n",
    "print(f\"\\nThe optimal value (minimum cost): ${suitcase.value}\")\n",
    "\n",
    "for i, v in enumerate([ns1, ms2]):\n",
    "    print(f\"Sold suitcases by Supplier {i+1}: {round(v.value[0])}\")"
   ]
  },
  {
   "cell_type": "code",
   "execution_count": null,
   "metadata": {},
   "outputs": [],
   "source": []
  }
 ],
 "metadata": {
  "kernelspec": {
   "display_name": "bayes_stats",
   "language": "python",
   "name": "python3"
  },
  "language_info": {
   "codemirror_mode": {
    "name": "ipython",
    "version": 3
   },
   "file_extension": ".py",
   "mimetype": "text/x-python",
   "name": "python",
   "nbconvert_exporter": "python",
   "pygments_lexer": "ipython3",
   "version": "3.11.4"
  },
  "orig_nbformat": 4
 },
 "nbformat": 4,
 "nbformat_minor": 2
}
