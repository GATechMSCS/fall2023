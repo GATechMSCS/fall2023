{
 "cells": [
  {
   "cell_type": "markdown",
   "metadata": {},
   "source": [
    "$\\text{IMPORTS}$"
   ]
  },
  {
   "cell_type": "code",
   "execution_count": 1,
   "metadata": {},
   "outputs": [],
   "source": [
    "import cvxpy as cp\n",
    "import numpy as np"
   ]
  },
  {
   "cell_type": "markdown",
   "metadata": {},
   "source": [
    "$\\textbf{QUESTION 1}$\n",
    "$$\n",
    "\n",
    "$$"
   ]
  },
  {
   "cell_type": "code",
   "execution_count": 31,
   "metadata": {},
   "outputs": [
    {
     "name": "stdout",
     "output_type": "stream",
     "text": [
      "\n",
      "Basis Matrix:\n",
      "B=matrix([[40,  0,  0],\n",
      "        [ 0, 16,  0],\n",
      "        [ 0,  0, 12]])\n",
      "Inverse of Basis Matrix:\n",
      "inv_b=matrix([[0.025     , 0.        , 0.        ],\n",
      "        [0.        , 0.0625    , 0.        ],\n",
      "        [0.        , 0.        , 0.08333333]])\n",
      "y_hat=array([[0.025     , 0.0625    , 0.08333333]])\n",
      "\n",
      "Optimal Solution:\n",
      "x1 = 3.75\n",
      "x2 = 6.25\n",
      "x3 = 6.67\n",
      "\n",
      "Optimal Value:\n",
      "16.67\n"
     ]
    }
   ],
   "source": [
    "A1 = np.array([40, 0, 0])\n",
    "A2 = np.array([0, 16, 0])\n",
    "A3 = np.array([0, 0, 12])\n",
    "c_b = np.array([1, 1, 1])\n",
    "\n",
    "B = np.matrix([A1, A2, A3]).T\n",
    "inv_b = np.linalg.inv(B)\n",
    "y_hat = np.array(c_b @ inv_b)\n",
    "print(f\"\\nBasis Matrix:\\n{B=}\\nInverse of Basis Matrix:\\n{inv_b=}\\n{y_hat=}\")\n",
    "print(\"\\nOptimal Solution:\\nx1 = 3.75\\nx2 = 6.25\\nx3 = 6.67\")\n",
    "print(\"\\nOptimal Value:\\n16.67\")"
   ]
  },
  {
   "cell_type": "markdown",
   "metadata": {},
   "source": [
    "$\\textbf{QUESTION 2}$\n",
    "$$\n",
    "\n",
    "$$"
   ]
  },
  {
   "cell_type": "code",
   "execution_count": 32,
   "metadata": {},
   "outputs": [
    {
     "name": "stdout",
     "output_type": "stream",
     "text": [
      "The Optimal Value:\n",
      "16.66666666666666\n",
      "\n",
      "Optimal Solution:\n",
      "x=array([3.75      , 6.25      , 6.66666667])\n",
      "\n",
      "Optimal Dual Solution:\n",
      "cvx_yhat=array([ 2.50000000e-02,  6.25000000e-02,  8.33333333e-02, -6.34729978e-10,\n",
      "       -4.44359035e-10, -4.00182754e-10])\n",
      "\n",
      "Basis Matrix:\n",
      "B=matrix([[40,  0,  0],\n",
      "        [ 0, 16,  0],\n",
      "        [ 0,  0, 12]])\n",
      "Inverse of Basis Matrix:\n",
      "inv_b=matrix([[0.025     , 0.        , 0.        ],\n",
      "        [0.        , 0.0625    , 0.        ],\n",
      "        [0.        , 0.        , 0.08333333]])\n"
     ]
    }
   ],
   "source": [
    "x1 = cp.Variable(1)\n",
    "x2 = cp.Variable(1)\n",
    "x3 = cp.Variable(1)\n",
    "\n",
    "obj = cp.Minimize(x1 + x2 + x3)\n",
    "constraints = [40 * x1 == 150,\n",
    "               16 * x2 == 100, \n",
    "               12 * x3 == 80,\n",
    "               x1 >=0,\n",
    "               x2 >=0,\n",
    "               x3 >=0]\n",
    "\n",
    "roll = cp.Problem(obj, constraints)\n",
    "roll.solve()\n",
    "print(f\"The Optimal Value:\\n{roll.value}\")\n",
    "\n",
    "x = np.array([v[0].value for i, v in enumerate([x1, x2, x3])])\n",
    "print(f\"\\nOptimal Solution:\\n{x=}\")\n",
    "\n",
    "cvx_yhat = np.array([-constraints[i].dual_value[0] for i, v in enumerate(constraints)])\n",
    "print(f\"\\nOptimal Dual Solution:\\n{cvx_yhat=}\")\n",
    "\n",
    "print(f\"\\nBasis Matrix:\\n{B=}\\nInverse of Basis Matrix:\\n{inv_b=}\")"
   ]
  },
  {
   "cell_type": "markdown",
   "metadata": {},
   "source": [
    "$\\textbf{QUESTION 3}\\\\\n",
    "\\text{Write the Knapsack Problem}$\n",
    "\n",
    "$$\n",
    "z = max \\{0.025a_1 + 0.0625a_2 + 0.0833a_3 \\}\\\\\n",
    "S.T.\\\\\n",
    "5a_1 + 12a_2 + 16a_3 \\le 200\\\\\n",
    "a_1, a_2, a_3 \\ge 0\n",
    "$$"
   ]
  },
  {
   "cell_type": "markdown",
   "metadata": {},
   "source": [
    "$\\textbf{QUESTION 4}\\\\\n",
    "\\text{Solve the Knapsack Problem}$\n",
    "\n",
    "$$\n",
    "\\text{The optimal solution (z):}\\ 1.0416 \\Rightarrow \\\\\n",
    "1-z \\lt 0 \\Rightarrow \\\\\n",
    "\\text{Column generation algorithm does not terminate.} \\Rightarrow \\\\\n",
    "\\text{We say the new column to enter:} \\ A_4 = [0, 14, 2] \\Rightarrow \\\\~\\\\\n",
    "\\text{New Pattern (A):}\n",
    "\\begin{bmatrix}\n",
    "40 & 0 & 0 & 0\\\\\n",
    "0 & 16 & 0 & 14\\\\\n",
    "0 & 0 & 12 & 2\n",
    "\\end{bmatrix}\n",
    "\n",
    "$$"
   ]
  },
  {
   "cell_type": "code",
   "execution_count": 38,
   "metadata": {},
   "outputs": [
    {
     "name": "stdout",
     "output_type": "stream",
     "text": [
      "The Optimal Value:\n",
      "1.0416\n",
      "\n",
      "Optimal Solution:\n",
      "A4=matrix([[ 0.],\n",
      "        [14.],\n",
      "        [ 2.]])\n",
      "New pattern:\n",
      "[[40.  0.  0.  0.]\n",
      " [ 0. 16.  0. 14.]\n",
      " [ 0.  0. 12.  2.]]\n"
     ]
    }
   ],
   "source": [
    "a1 = cp.Variable(1, integer=True)\n",
    "a2 = cp.Variable(1, integer=True)\n",
    "a3 = cp.Variable(1, integer=True)\n",
    "\n",
    "expr = (0.025 * a1) + (0.0625 * a2) + (0.0833 * a3)\n",
    "\n",
    "next_obj = cp.Maximize(expr)\n",
    "next_constraints = [(5 * a1) + (12 * a2) + (16 * a3) <= 200,\n",
    "                    a1 >= 0,\n",
    "                    a2 >= 0,\n",
    "                    a3 >= 0]\n",
    "\n",
    "next_roll = cp.Problem(next_obj, next_constraints)\n",
    "next_roll.solve()\n",
    "print(f\"The Optimal Value:\\n{next_roll.value}\")\n",
    "\n",
    "A4 = np.matrix([v[0].value for i, v in enumerate([a1, a2, a3])]).T\n",
    "print(f\"\\nOptimal Solution:\\n{A4=}\")\n",
    "\n",
    "new_B = np.append(B, A4, axis=1)\n",
    "\n",
    "print(f\"New pattern:\\n{new_B}\")\n",
    "\n"
   ]
  },
  {
   "cell_type": "markdown",
   "metadata": {},
   "source": [
    "$\\textbf{QUESTION 5}$\n",
    "\n",
    "$$\n",
    "\n",
    "$$"
   ]
  },
  {
   "cell_type": "code",
   "execution_count": null,
   "metadata": {},
   "outputs": [],
   "source": []
  },
  {
   "cell_type": "markdown",
   "metadata": {},
   "source": [
    "$\\textbf{QUESTION 6}$\n",
    "\n",
    "$$\n",
    "\n",
    "$$"
   ]
  }
 ],
 "metadata": {
  "kernelspec": {
   "display_name": "bayes_stats",
   "language": "python",
   "name": "python3"
  },
  "language_info": {
   "codemirror_mode": {
    "name": "ipython",
    "version": 3
   },
   "file_extension": ".py",
   "mimetype": "text/x-python",
   "name": "python",
   "nbconvert_exporter": "python",
   "pygments_lexer": "ipython3",
   "version": "3.11.4"
  },
  "orig_nbformat": 4
 },
 "nbformat": 4,
 "nbformat_minor": 2
}
