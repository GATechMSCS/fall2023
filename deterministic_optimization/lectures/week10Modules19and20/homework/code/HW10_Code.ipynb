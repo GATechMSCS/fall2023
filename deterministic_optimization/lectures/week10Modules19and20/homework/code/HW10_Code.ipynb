{
 "cells": [
  {
   "cell_type": "markdown",
   "metadata": {},
   "source": [
    "$\\text{IMPORTS}$"
   ]
  },
  {
   "cell_type": "code",
   "execution_count": 1,
   "metadata": {},
   "outputs": [],
   "source": [
    "import cvxpy as cp\n",
    "import numpy as np"
   ]
  },
  {
   "cell_type": "markdown",
   "metadata": {},
   "source": [
    "$\\textbf{QUESTION 1}$\n",
    "$$\n",
    "\n",
    "$$"
   ]
  },
  {
   "cell_type": "code",
   "execution_count": 2,
   "metadata": {},
   "outputs": [
    {
     "name": "stdout",
     "output_type": "stream",
     "text": [
      "\n",
      "Basis Matrix:\n",
      "B=matrix([[40,  0,  0],\n",
      "        [ 0, 16,  0],\n",
      "        [ 0,  0, 12]])\n",
      "Inverse of Basis Matrix:\n",
      "inv_b=matrix([[0.025     , 0.        , 0.        ],\n",
      "        [0.        , 0.0625    , 0.        ],\n",
      "        [0.        , 0.        , 0.08333333]])\n",
      "y_hat=array([[0.025     , 0.0625    , 0.08333333]])\n",
      "\n",
      "Optimal Solution:\n",
      "x1 = 3.75\n",
      "x2 = 6.25\n",
      "x3 = 6.67\n",
      "\n",
      "Optimal Value:\n",
      "16.67\n"
     ]
    }
   ],
   "source": [
    "A1 = np.array([40, 0, 0]).T\n",
    "A2 = np.array([0, 16, 0]).T\n",
    "A3 = np.array([0, 0, 12]).T\n",
    "c_b = np.array([1, 1, 1])\n",
    "\n",
    "B = np.matrix([A1, A2, A3])\n",
    "inv_b = np.linalg.inv(B)\n",
    "y_hat = np.array(c_b @ inv_b)\n",
    "print(f\"\\nBasis Matrix:\\n{B=}\\nInverse of Basis Matrix:\\n{inv_b=}\\n{y_hat=}\")\n",
    "print(\"\\nOptimal Solution:\\nx1 = 3.75\\nx2 = 6.25\\nx3 = 6.67\")\n",
    "print(\"\\nOptimal Value:\\n16.67\")"
   ]
  },
  {
   "cell_type": "markdown",
   "metadata": {},
   "source": [
    "$\\textbf{QUESTION 2}$\n",
    "$$\n",
    "\n",
    "$$"
   ]
  },
  {
   "cell_type": "code",
   "execution_count": 3,
   "metadata": {},
   "outputs": [
    {
     "name": "stdout",
     "output_type": "stream",
     "text": [
      "The Optimal Value:\n",
      "16.666666666666583\n",
      "\n",
      "Optimal Solution:\n",
      "x=array([3.75      , 6.25      , 6.66666667])\n",
      "\n",
      "Optimal Dual Solution:\n",
      "cvx_yhat=array([0.025     , 0.0625    , 0.08333333])\n",
      "\n",
      "Basis Matrix:\n",
      "B=matrix([[40,  0,  0],\n",
      "        [ 0, 16,  0],\n",
      "        [ 0,  0, 12]])\n",
      "Inverse of Basis Matrix:\n",
      "inv_b=matrix([[0.025     , 0.        , 0.        ],\n",
      "        [0.        , 0.0625    , 0.        ],\n",
      "        [0.        , 0.        , 0.08333333]])\n"
     ]
    }
   ],
   "source": [
    "x1 = cp.Variable(1)\n",
    "x2 = cp.Variable(1)\n",
    "x3 = cp.Variable(1)\n",
    "\n",
    "obj = cp.Minimize(x1 + x2 + x3)\n",
    "constraints = [40 * x1 == 150,\n",
    "               16 * x2 == 100, \n",
    "               12 * x3 == 80,]\n",
    "\n",
    "roll = cp.Problem(obj, constraints)\n",
    "roll.solve()\n",
    "print(f\"The Optimal Value:\\n{roll.value}\")\n",
    "\n",
    "x = np.array([v[0].value for i, v in enumerate([x1, x2, x3])])\n",
    "print(f\"\\nOptimal Solution:\\n{x=}\")\n",
    "\n",
    "cvx_yhat = np.array([-constraints[i].dual_value[0] for i, v in enumerate(constraints)])\n",
    "print(f\"\\nOptimal Dual Solution:\\n{cvx_yhat=}\")\n",
    "\n",
    "print(f\"\\nBasis Matrix:\\n{B=}\\nInverse of Basis Matrix:\\n{inv_b=}\")"
   ]
  },
  {
   "cell_type": "markdown",
   "metadata": {},
   "source": [
    "$\\textbf{QUESTION 3}$\n",
    "\n",
    "$$\n",
    "\n",
    "$$"
   ]
  },
  {
   "cell_type": "markdown",
   "metadata": {},
   "source": [
    "$\\textbf{QUESTION 4}$\n",
    "\n",
    "$$\n",
    "\n",
    "$$"
   ]
  },
  {
   "cell_type": "code",
   "execution_count": null,
   "metadata": {},
   "outputs": [],
   "source": []
  },
  {
   "cell_type": "markdown",
   "metadata": {},
   "source": [
    "$\\textbf{QUESTION 5}$\n",
    "\n",
    "$$\n",
    "\n",
    "$$"
   ]
  },
  {
   "cell_type": "code",
   "execution_count": null,
   "metadata": {},
   "outputs": [],
   "source": []
  },
  {
   "cell_type": "markdown",
   "metadata": {},
   "source": [
    "$\\textbf{QUESTION 6}$\n",
    "\n",
    "$$\n",
    "\n",
    "$$"
   ]
  }
 ],
 "metadata": {
  "kernelspec": {
   "display_name": "bayes_stats",
   "language": "python",
   "name": "python3"
  },
  "language_info": {
   "codemirror_mode": {
    "name": "ipython",
    "version": 3
   },
   "file_extension": ".py",
   "mimetype": "text/x-python",
   "name": "python",
   "nbconvert_exporter": "python",
   "pygments_lexer": "ipython3",
   "version": "3.11.4"
  },
  "orig_nbformat": 4
 },
 "nbformat": 4,
 "nbformat_minor": 2
}
